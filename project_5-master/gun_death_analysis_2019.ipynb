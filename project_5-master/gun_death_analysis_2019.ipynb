{
 "cells": [
  {
   "cell_type": "code",
   "execution_count": 1,
   "id": "f0ff3dd1",
   "metadata": {},
   "outputs": [],
   "source": [
    "import pandas as pd\n",
    "import numpy as np\n",
    "import seaborn as sns\n",
    "import matplotlib.pyplot as plt\n",
    "\n",
    "from sklearn.linear_model import LinearRegression\n",
    "from sklearn.model_selection import train_test_split, cross_val_score\n",
    "from sklearn.metrics import mean_squared_error\n",
    "from sklearn.preprocessing import StandardScaler\n",
    "\n",
    "from sklearn.tree import DecisionTreeRegressor\n",
    "from sklearn.ensemble import RandomForestRegressor, VotingRegressor\n",
    "from sklearn.model_selection import GridSearchCV\n",
    "from sklearn.svm import LinearSVR"
   ]
  },
  {
   "cell_type": "code",
   "execution_count": 2,
   "id": "387549a5",
   "metadata": {},
   "outputs": [],
   "source": [
    "targets = pd.read_csv('./datasets/targets.csv')\n",
    "reg_weapons = pd.read_csv('./datasets/reg_weapons.csv')\n",
    "population = pd.read_csv('./datasets/population.csv') "
   ]
  },
  {
   "cell_type": "code",
   "execution_count": 3,
   "id": "310741e7",
   "metadata": {
    "scrolled": true
   },
   "outputs": [
    {
     "data": {
      "text/plain": [
       "year                       int64\n",
       "state                     object\n",
       "any_other_weapon          object\n",
       "destructive_device        object\n",
       "machinegun                object\n",
       "silencer                  object\n",
       "short_barreled_rifle      object\n",
       "short_barreled_shotgun    object\n",
       "total_weapons             object\n",
       "dtype: object"
      ]
     },
     "execution_count": 3,
     "metadata": {},
     "output_type": "execute_result"
    }
   ],
   "source": [
    "reg_weapons.dtypes"
   ]
  },
  {
   "cell_type": "code",
   "execution_count": 4,
   "id": "966f9b60",
   "metadata": {
    "scrolled": true
   },
   "outputs": [
    {
     "data": {
      "text/plain": [
       "Index(['year', 'state', 'any_other_weapon', 'destructive_device', 'machinegun',\n",
       "       'silencer', 'short_barreled_rifle', 'short_barreled_shotgun',\n",
       "       'total_weapons'],\n",
       "      dtype='object')"
      ]
     },
     "execution_count": 4,
     "metadata": {},
     "output_type": "execute_result"
    }
   ],
   "source": [
    "reg_weapons.columns"
   ]
  },
  {
   "cell_type": "code",
   "execution_count": 5,
   "id": "b835cc49",
   "metadata": {},
   "outputs": [],
   "source": [
    "reg_weapons_cols = ['any_other_weapon', 'destructive_device', 'machinegun',\n",
    "       'silencer', 'short_barreled_rifle', 'short_barreled_shotgun',\n",
    "       'total_weapons']"
   ]
  },
  {
   "cell_type": "code",
   "execution_count": 6,
   "id": "7699c913",
   "metadata": {},
   "outputs": [],
   "source": [
    "for column in reg_weapons_cols:\n",
    "    reg_weapons[column] = [int(value.replace(\",\", \"\")) for value in reg_weapons[column]]"
   ]
  },
  {
   "cell_type": "code",
   "execution_count": 7,
   "id": "3902d377",
   "metadata": {
    "scrolled": true
   },
   "outputs": [
    {
     "data": {
      "text/plain": [
       "year                       int64\n",
       "state                     object\n",
       "any_other_weapon           int64\n",
       "destructive_device         int64\n",
       "machinegun                 int64\n",
       "silencer                   int64\n",
       "short_barreled_rifle       int64\n",
       "short_barreled_shotgun     int64\n",
       "total_weapons              int64\n",
       "dtype: object"
      ]
     },
     "execution_count": 7,
     "metadata": {},
     "output_type": "execute_result"
    }
   ],
   "source": [
    "reg_weapons.dtypes"
   ]
  },
  {
   "cell_type": "code",
   "execution_count": 8,
   "id": "0654632f",
   "metadata": {},
   "outputs": [
    {
     "data": {
      "text/plain": [
       "year           int64\n",
       "state         object\n",
       "population    object\n",
       "dtype: object"
      ]
     },
     "execution_count": 8,
     "metadata": {},
     "output_type": "execute_result"
    }
   ],
   "source": [
    "population.dtypes"
   ]
  },
  {
   "cell_type": "code",
   "execution_count": 9,
   "id": "4342789f",
   "metadata": {},
   "outputs": [],
   "source": [
    "population['population'] = [int(value.replace(\",\", \"\")) for value in population['population']]"
   ]
  },
  {
   "cell_type": "code",
   "execution_count": 10,
   "id": "76dda2e6",
   "metadata": {
    "scrolled": true
   },
   "outputs": [
    {
     "data": {
      "text/plain": [
       "year           int64\n",
       "state         object\n",
       "population     int64\n",
       "dtype: object"
      ]
     },
     "execution_count": 10,
     "metadata": {},
     "output_type": "execute_result"
    }
   ],
   "source": [
    "population.dtypes"
   ]
  },
  {
   "cell_type": "code",
   "execution_count": 11,
   "id": "696abe71",
   "metadata": {},
   "outputs": [],
   "source": [
    "population['state'] = [value.replace(\".\", \"\") for value in population['state']]"
   ]
  },
  {
   "cell_type": "code",
   "execution_count": 12,
   "id": "030eda10",
   "metadata": {
    "scrolled": true
   },
   "outputs": [
    {
     "data": {
      "text/html": [
       "<div>\n",
       "<style scoped>\n",
       "    .dataframe tbody tr th:only-of-type {\n",
       "        vertical-align: middle;\n",
       "    }\n",
       "\n",
       "    .dataframe tbody tr th {\n",
       "        vertical-align: top;\n",
       "    }\n",
       "\n",
       "    .dataframe thead th {\n",
       "        text-align: right;\n",
       "    }\n",
       "</style>\n",
       "<table border=\"1\" class=\"dataframe\">\n",
       "  <thead>\n",
       "    <tr style=\"text-align: right;\">\n",
       "      <th></th>\n",
       "      <th>year</th>\n",
       "      <th>state</th>\n",
       "      <th>population</th>\n",
       "    </tr>\n",
       "  </thead>\n",
       "  <tbody>\n",
       "    <tr>\n",
       "      <th>0</th>\n",
       "      <td>2014</td>\n",
       "      <td>Alabama</td>\n",
       "      <td>4841799</td>\n",
       "    </tr>\n",
       "    <tr>\n",
       "      <th>1</th>\n",
       "      <td>2014</td>\n",
       "      <td>Alaska</td>\n",
       "      <td>736283</td>\n",
       "    </tr>\n",
       "    <tr>\n",
       "      <th>2</th>\n",
       "      <td>2014</td>\n",
       "      <td>Arizona</td>\n",
       "      <td>6730413</td>\n",
       "    </tr>\n",
       "    <tr>\n",
       "      <th>3</th>\n",
       "      <td>2014</td>\n",
       "      <td>Arkansas</td>\n",
       "      <td>2967392</td>\n",
       "    </tr>\n",
       "    <tr>\n",
       "      <th>4</th>\n",
       "      <td>2014</td>\n",
       "      <td>California</td>\n",
       "      <td>38596972</td>\n",
       "    </tr>\n",
       "    <tr>\n",
       "      <th>...</th>\n",
       "      <td>...</td>\n",
       "      <td>...</td>\n",
       "      <td>...</td>\n",
       "    </tr>\n",
       "    <tr>\n",
       "      <th>301</th>\n",
       "      <td>2019</td>\n",
       "      <td>Virginia</td>\n",
       "      <td>8535519</td>\n",
       "    </tr>\n",
       "    <tr>\n",
       "      <th>302</th>\n",
       "      <td>2019</td>\n",
       "      <td>Washington</td>\n",
       "      <td>7614893</td>\n",
       "    </tr>\n",
       "    <tr>\n",
       "      <th>303</th>\n",
       "      <td>2019</td>\n",
       "      <td>West Virginia</td>\n",
       "      <td>1792147</td>\n",
       "    </tr>\n",
       "    <tr>\n",
       "      <th>304</th>\n",
       "      <td>2019</td>\n",
       "      <td>Wisconsin</td>\n",
       "      <td>5822434</td>\n",
       "    </tr>\n",
       "    <tr>\n",
       "      <th>305</th>\n",
       "      <td>2019</td>\n",
       "      <td>Wyoming</td>\n",
       "      <td>578759</td>\n",
       "    </tr>\n",
       "  </tbody>\n",
       "</table>\n",
       "<p>306 rows × 3 columns</p>\n",
       "</div>"
      ],
      "text/plain": [
       "     year          state  population\n",
       "0    2014        Alabama     4841799\n",
       "1    2014         Alaska      736283\n",
       "2    2014        Arizona     6730413\n",
       "3    2014       Arkansas     2967392\n",
       "4    2014     California    38596972\n",
       "..    ...            ...         ...\n",
       "301  2019       Virginia     8535519\n",
       "302  2019     Washington     7614893\n",
       "303  2019  West Virginia     1792147\n",
       "304  2019      Wisconsin     5822434\n",
       "305  2019        Wyoming      578759\n",
       "\n",
       "[306 rows x 3 columns]"
      ]
     },
     "execution_count": 12,
     "metadata": {},
     "output_type": "execute_result"
    }
   ],
   "source": [
    "population"
   ]
  },
  {
   "cell_type": "code",
   "execution_count": 13,
   "id": "e3e952e8",
   "metadata": {},
   "outputs": [
    {
     "data": {
      "text/html": [
       "<div>\n",
       "<style scoped>\n",
       "    .dataframe tbody tr th:only-of-type {\n",
       "        vertical-align: middle;\n",
       "    }\n",
       "\n",
       "    .dataframe tbody tr th {\n",
       "        vertical-align: top;\n",
       "    }\n",
       "\n",
       "    .dataframe thead th {\n",
       "        text-align: right;\n",
       "    }\n",
       "</style>\n",
       "<table border=\"1\" class=\"dataframe\">\n",
       "  <thead>\n",
       "    <tr style=\"text-align: right;\">\n",
       "      <th></th>\n",
       "      <th>year</th>\n",
       "      <th>state</th>\n",
       "      <th>gun_death_rate</th>\n",
       "      <th>gun_deaths</th>\n",
       "    </tr>\n",
       "  </thead>\n",
       "  <tbody>\n",
       "    <tr>\n",
       "      <th>0</th>\n",
       "      <td>2019</td>\n",
       "      <td>Alaska</td>\n",
       "      <td>24.4</td>\n",
       "      <td>179</td>\n",
       "    </tr>\n",
       "    <tr>\n",
       "      <th>1</th>\n",
       "      <td>2018</td>\n",
       "      <td>Alaska</td>\n",
       "      <td>21.0</td>\n",
       "      <td>155</td>\n",
       "    </tr>\n",
       "    <tr>\n",
       "      <th>2</th>\n",
       "      <td>2017</td>\n",
       "      <td>Alaska</td>\n",
       "      <td>24.5</td>\n",
       "      <td>180</td>\n",
       "    </tr>\n",
       "    <tr>\n",
       "      <th>3</th>\n",
       "      <td>2016</td>\n",
       "      <td>Alaska</td>\n",
       "      <td>23.3</td>\n",
       "      <td>177</td>\n",
       "    </tr>\n",
       "    <tr>\n",
       "      <th>4</th>\n",
       "      <td>2015</td>\n",
       "      <td>Alaska</td>\n",
       "      <td>23.4</td>\n",
       "      <td>177</td>\n",
       "    </tr>\n",
       "    <tr>\n",
       "      <th>...</th>\n",
       "      <td>...</td>\n",
       "      <td>...</td>\n",
       "      <td>...</td>\n",
       "      <td>...</td>\n",
       "    </tr>\n",
       "    <tr>\n",
       "      <th>295</th>\n",
       "      <td>2018</td>\n",
       "      <td>Wyoming</td>\n",
       "      <td>21.5</td>\n",
       "      <td>124</td>\n",
       "    </tr>\n",
       "    <tr>\n",
       "      <th>296</th>\n",
       "      <td>2017</td>\n",
       "      <td>Wyoming</td>\n",
       "      <td>18.8</td>\n",
       "      <td>113</td>\n",
       "    </tr>\n",
       "    <tr>\n",
       "      <th>297</th>\n",
       "      <td>2016</td>\n",
       "      <td>Wyoming</td>\n",
       "      <td>17.4</td>\n",
       "      <td>101</td>\n",
       "    </tr>\n",
       "    <tr>\n",
       "      <th>298</th>\n",
       "      <td>2015</td>\n",
       "      <td>Wyoming</td>\n",
       "      <td>19.6</td>\n",
       "      <td>113</td>\n",
       "    </tr>\n",
       "    <tr>\n",
       "      <th>299</th>\n",
       "      <td>2014</td>\n",
       "      <td>Wyoming</td>\n",
       "      <td>16.2</td>\n",
       "      <td>93</td>\n",
       "    </tr>\n",
       "  </tbody>\n",
       "</table>\n",
       "<p>300 rows × 4 columns</p>\n",
       "</div>"
      ],
      "text/plain": [
       "     year    state  gun_death_rate  gun_deaths\n",
       "0    2019   Alaska            24.4         179\n",
       "1    2018   Alaska            21.0         155\n",
       "2    2017   Alaska            24.5         180\n",
       "3    2016   Alaska            23.3         177\n",
       "4    2015   Alaska            23.4         177\n",
       "..    ...      ...             ...         ...\n",
       "295  2018  Wyoming            21.5         124\n",
       "296  2017  Wyoming            18.8         113\n",
       "297  2016  Wyoming            17.4         101\n",
       "298  2015  Wyoming            19.6         113\n",
       "299  2014  Wyoming            16.2          93\n",
       "\n",
       "[300 rows x 4 columns]"
      ]
     },
     "execution_count": 13,
     "metadata": {},
     "output_type": "execute_result"
    }
   ],
   "source": [
    "targets"
   ]
  },
  {
   "cell_type": "code",
   "execution_count": 14,
   "id": "e64d16db",
   "metadata": {},
   "outputs": [
    {
     "data": {
      "text/html": [
       "<div>\n",
       "<style scoped>\n",
       "    .dataframe tbody tr th:only-of-type {\n",
       "        vertical-align: middle;\n",
       "    }\n",
       "\n",
       "    .dataframe tbody tr th {\n",
       "        vertical-align: top;\n",
       "    }\n",
       "\n",
       "    .dataframe thead th {\n",
       "        text-align: right;\n",
       "    }\n",
       "</style>\n",
       "<table border=\"1\" class=\"dataframe\">\n",
       "  <thead>\n",
       "    <tr style=\"text-align: right;\">\n",
       "      <th></th>\n",
       "      <th>year</th>\n",
       "      <th>state</th>\n",
       "      <th>any_other_weapon</th>\n",
       "      <th>destructive_device</th>\n",
       "      <th>machinegun</th>\n",
       "      <th>silencer</th>\n",
       "      <th>short_barreled_rifle</th>\n",
       "      <th>short_barreled_shotgun</th>\n",
       "      <th>total_weapons</th>\n",
       "    </tr>\n",
       "  </thead>\n",
       "  <tbody>\n",
       "    <tr>\n",
       "      <th>0</th>\n",
       "      <td>2014</td>\n",
       "      <td>Alabama</td>\n",
       "      <td>1143</td>\n",
       "      <td>62117</td>\n",
       "      <td>17463</td>\n",
       "      <td>11967</td>\n",
       "      <td>1915</td>\n",
       "      <td>2139</td>\n",
       "      <td>96744</td>\n",
       "    </tr>\n",
       "    <tr>\n",
       "      <th>1</th>\n",
       "      <td>2014</td>\n",
       "      <td>Alaska</td>\n",
       "      <td>318</td>\n",
       "      <td>4164</td>\n",
       "      <td>1643</td>\n",
       "      <td>2919</td>\n",
       "      <td>919</td>\n",
       "      <td>1204</td>\n",
       "      <td>11167</td>\n",
       "    </tr>\n",
       "    <tr>\n",
       "      <th>2</th>\n",
       "      <td>2014</td>\n",
       "      <td>Arkansas</td>\n",
       "      <td>588</td>\n",
       "      <td>44522</td>\n",
       "      <td>5059</td>\n",
       "      <td>9609</td>\n",
       "      <td>1712</td>\n",
       "      <td>1037</td>\n",
       "      <td>62527</td>\n",
       "    </tr>\n",
       "    <tr>\n",
       "      <th>3</th>\n",
       "      <td>2014</td>\n",
       "      <td>Arizona</td>\n",
       "      <td>1128</td>\n",
       "      <td>75858</td>\n",
       "      <td>15649</td>\n",
       "      <td>21382</td>\n",
       "      <td>7162</td>\n",
       "      <td>1951</td>\n",
       "      <td>123130</td>\n",
       "    </tr>\n",
       "    <tr>\n",
       "      <th>4</th>\n",
       "      <td>2014</td>\n",
       "      <td>California</td>\n",
       "      <td>3806</td>\n",
       "      <td>230410</td>\n",
       "      <td>28822</td>\n",
       "      <td>8907</td>\n",
       "      <td>8069</td>\n",
       "      <td>12863</td>\n",
       "      <td>292877</td>\n",
       "    </tr>\n",
       "    <tr>\n",
       "      <th>...</th>\n",
       "      <td>...</td>\n",
       "      <td>...</td>\n",
       "      <td>...</td>\n",
       "      <td>...</td>\n",
       "      <td>...</td>\n",
       "      <td>...</td>\n",
       "      <td>...</td>\n",
       "      <td>...</td>\n",
       "      <td>...</td>\n",
       "    </tr>\n",
       "    <tr>\n",
       "      <th>301</th>\n",
       "      <td>2019</td>\n",
       "      <td>Vermont</td>\n",
       "      <td>232</td>\n",
       "      <td>3067</td>\n",
       "      <td>1421</td>\n",
       "      <td>2177</td>\n",
       "      <td>655</td>\n",
       "      <td>164</td>\n",
       "      <td>7716</td>\n",
       "    </tr>\n",
       "    <tr>\n",
       "      <th>302</th>\n",
       "      <td>2019</td>\n",
       "      <td>Washington</td>\n",
       "      <td>1965</td>\n",
       "      <td>52180</td>\n",
       "      <td>4525</td>\n",
       "      <td>48010</td>\n",
       "      <td>12109</td>\n",
       "      <td>1040</td>\n",
       "      <td>119829</td>\n",
       "    </tr>\n",
       "    <tr>\n",
       "      <th>303</th>\n",
       "      <td>2019</td>\n",
       "      <td>Wisconsin</td>\n",
       "      <td>797</td>\n",
       "      <td>33621</td>\n",
       "      <td>8138</td>\n",
       "      <td>29333</td>\n",
       "      <td>6400</td>\n",
       "      <td>1350</td>\n",
       "      <td>79639</td>\n",
       "    </tr>\n",
       "    <tr>\n",
       "      <th>304</th>\n",
       "      <td>2019</td>\n",
       "      <td>West Virginia</td>\n",
       "      <td>471</td>\n",
       "      <td>20948</td>\n",
       "      <td>7084</td>\n",
       "      <td>9627</td>\n",
       "      <td>2379</td>\n",
       "      <td>1142</td>\n",
       "      <td>41651</td>\n",
       "    </tr>\n",
       "    <tr>\n",
       "      <th>305</th>\n",
       "      <td>2019</td>\n",
       "      <td>Wyoming</td>\n",
       "      <td>322</td>\n",
       "      <td>119982</td>\n",
       "      <td>1915</td>\n",
       "      <td>9902</td>\n",
       "      <td>1528</td>\n",
       "      <td>401</td>\n",
       "      <td>134050</td>\n",
       "    </tr>\n",
       "  </tbody>\n",
       "</table>\n",
       "<p>306 rows × 9 columns</p>\n",
       "</div>"
      ],
      "text/plain": [
       "     year          state  any_other_weapon  destructive_device  machinegun  \\\n",
       "0    2014        Alabama              1143               62117       17463   \n",
       "1    2014         Alaska               318                4164        1643   \n",
       "2    2014       Arkansas               588               44522        5059   \n",
       "3    2014        Arizona              1128               75858       15649   \n",
       "4    2014     California              3806              230410       28822   \n",
       "..    ...            ...               ...                 ...         ...   \n",
       "301  2019        Vermont               232                3067        1421   \n",
       "302  2019     Washington              1965               52180        4525   \n",
       "303  2019      Wisconsin               797               33621        8138   \n",
       "304  2019  West Virginia               471               20948        7084   \n",
       "305  2019        Wyoming               322              119982        1915   \n",
       "\n",
       "     silencer  short_barreled_rifle  short_barreled_shotgun  total_weapons  \n",
       "0       11967                  1915                    2139          96744  \n",
       "1        2919                   919                    1204          11167  \n",
       "2        9609                  1712                    1037          62527  \n",
       "3       21382                  7162                    1951         123130  \n",
       "4        8907                  8069                   12863         292877  \n",
       "..        ...                   ...                     ...            ...  \n",
       "301      2177                   655                     164           7716  \n",
       "302     48010                 12109                    1040         119829  \n",
       "303     29333                  6400                    1350          79639  \n",
       "304      9627                  2379                    1142          41651  \n",
       "305      9902                  1528                     401         134050  \n",
       "\n",
       "[306 rows x 9 columns]"
      ]
     },
     "execution_count": 14,
     "metadata": {},
     "output_type": "execute_result"
    }
   ],
   "source": [
    "reg_weapons"
   ]
  },
  {
   "cell_type": "code",
   "execution_count": 15,
   "id": "31bc391d",
   "metadata": {
    "scrolled": true
   },
   "outputs": [
    {
     "data": {
      "text/html": [
       "<div>\n",
       "<style scoped>\n",
       "    .dataframe tbody tr th:only-of-type {\n",
       "        vertical-align: middle;\n",
       "    }\n",
       "\n",
       "    .dataframe tbody tr th {\n",
       "        vertical-align: top;\n",
       "    }\n",
       "\n",
       "    .dataframe thead th {\n",
       "        text-align: right;\n",
       "    }\n",
       "</style>\n",
       "<table border=\"1\" class=\"dataframe\">\n",
       "  <thead>\n",
       "    <tr style=\"text-align: right;\">\n",
       "      <th></th>\n",
       "      <th>year</th>\n",
       "      <th>state</th>\n",
       "      <th>population</th>\n",
       "    </tr>\n",
       "  </thead>\n",
       "  <tbody>\n",
       "    <tr>\n",
       "      <th>0</th>\n",
       "      <td>2014</td>\n",
       "      <td>Alabama</td>\n",
       "      <td>4841799</td>\n",
       "    </tr>\n",
       "    <tr>\n",
       "      <th>1</th>\n",
       "      <td>2014</td>\n",
       "      <td>Alaska</td>\n",
       "      <td>736283</td>\n",
       "    </tr>\n",
       "    <tr>\n",
       "      <th>2</th>\n",
       "      <td>2014</td>\n",
       "      <td>Arizona</td>\n",
       "      <td>6730413</td>\n",
       "    </tr>\n",
       "    <tr>\n",
       "      <th>3</th>\n",
       "      <td>2014</td>\n",
       "      <td>Arkansas</td>\n",
       "      <td>2967392</td>\n",
       "    </tr>\n",
       "    <tr>\n",
       "      <th>4</th>\n",
       "      <td>2014</td>\n",
       "      <td>California</td>\n",
       "      <td>38596972</td>\n",
       "    </tr>\n",
       "    <tr>\n",
       "      <th>...</th>\n",
       "      <td>...</td>\n",
       "      <td>...</td>\n",
       "      <td>...</td>\n",
       "    </tr>\n",
       "    <tr>\n",
       "      <th>301</th>\n",
       "      <td>2019</td>\n",
       "      <td>Virginia</td>\n",
       "      <td>8535519</td>\n",
       "    </tr>\n",
       "    <tr>\n",
       "      <th>302</th>\n",
       "      <td>2019</td>\n",
       "      <td>Washington</td>\n",
       "      <td>7614893</td>\n",
       "    </tr>\n",
       "    <tr>\n",
       "      <th>303</th>\n",
       "      <td>2019</td>\n",
       "      <td>West Virginia</td>\n",
       "      <td>1792147</td>\n",
       "    </tr>\n",
       "    <tr>\n",
       "      <th>304</th>\n",
       "      <td>2019</td>\n",
       "      <td>Wisconsin</td>\n",
       "      <td>5822434</td>\n",
       "    </tr>\n",
       "    <tr>\n",
       "      <th>305</th>\n",
       "      <td>2019</td>\n",
       "      <td>Wyoming</td>\n",
       "      <td>578759</td>\n",
       "    </tr>\n",
       "  </tbody>\n",
       "</table>\n",
       "<p>306 rows × 3 columns</p>\n",
       "</div>"
      ],
      "text/plain": [
       "     year          state  population\n",
       "0    2014        Alabama     4841799\n",
       "1    2014         Alaska      736283\n",
       "2    2014        Arizona     6730413\n",
       "3    2014       Arkansas     2967392\n",
       "4    2014     California    38596972\n",
       "..    ...            ...         ...\n",
       "301  2019       Virginia     8535519\n",
       "302  2019     Washington     7614893\n",
       "303  2019  West Virginia     1792147\n",
       "304  2019      Wisconsin     5822434\n",
       "305  2019        Wyoming      578759\n",
       "\n",
       "[306 rows x 3 columns]"
      ]
     },
     "execution_count": 15,
     "metadata": {},
     "output_type": "execute_result"
    }
   ],
   "source": [
    "population"
   ]
  },
  {
   "cell_type": "markdown",
   "id": "e56375f5",
   "metadata": {},
   "source": [
    "## Note: Not including District of Columbia"
   ]
  },
  {
   "cell_type": "code",
   "execution_count": 16,
   "id": "daba33ea",
   "metadata": {},
   "outputs": [],
   "source": [
    "df = pd.merge(targets, reg_weapons, how= 'left', left_on=['year','state'], right_on=['year','state'])"
   ]
  },
  {
   "cell_type": "code",
   "execution_count": 17,
   "id": "ae3422eb",
   "metadata": {},
   "outputs": [],
   "source": [
    "df = pd.merge(df, population, how= 'left', left_on=['year','state'], right_on=['year','state'])"
   ]
  },
  {
   "cell_type": "code",
   "execution_count": 18,
   "id": "05d214c4",
   "metadata": {},
   "outputs": [],
   "source": [
    "state_codes = {'Alabama': 1,\n",
    "               'Alaska': 2,\n",
    "               'Arkansas': 3,\n",
    "               'Arizona': 4,\n",
    "               'California': 5,\n",
    "               'Colorado': 6,\n",
    "               'Connecticut': 7,\n",
    "               'Delaware': 8,\n",
    "               'Florida': 9,\n",
    "               'Georgia': 10,\n",
    "               'Hawaii': 11,\n",
    "               'Iowa': 12,\n",
    "               'Idaho': 13,\n",
    "               'Illinois': 14,\n",
    "               'Indiana': 15,\n",
    "               'Kansas': 16,\n",
    "               'Kentucky': 17,\n",
    "               'Louisiana': 18,\n",
    "               'Massachusetts': 19,\n",
    "               'Maryland': 20,\n",
    "               'Maine': 21,\n",
    "               'Michigan': 22,\n",
    "               'Minnesota': 23,\n",
    "               'Missouri': 24,\n",
    "               'Mississippi': 25,\n",
    "               'Montana': 26,\n",
    "               'North Carolina': 27,\n",
    "               'North Dakota': 28,\n",
    "               'Nebraska': 29,\n",
    "               'New Hampshire': 30,\n",
    "               'New Jersey': 31,\n",
    "               'New Mexico': 32,\n",
    "               'Nevada': 33,\n",
    "               'New York': 34,\n",
    "               'Ohio': 35,\n",
    "               'Oklahoma': 36,\n",
    "               'Oregon': 37,\n",
    "               'Pennsylvania': 38,\n",
    "               'Rhode Island': 39,\n",
    "               'South Carolina': 40,\n",
    "               'South Dakota': 41,\n",
    "               'Tennessee': 42,\n",
    "               'Texas': 43,\n",
    "               'Utah': 44,\n",
    "               'Virginia': 45,\n",
    "               'Vermont': 46,\n",
    "               'Washington': 47,\n",
    "               'Wisconsin': 48,\n",
    "               'West Virginia': 49,\n",
    "               'Wyoming': 50\n",
    "              }"
   ]
  },
  {
   "cell_type": "code",
   "execution_count": 19,
   "id": "6d260eca",
   "metadata": {},
   "outputs": [],
   "source": [
    "df['state_id'] = [state_codes[state] for state in df['state']]"
   ]
  },
  {
   "cell_type": "code",
   "execution_count": 20,
   "id": "570cef17",
   "metadata": {},
   "outputs": [],
   "source": [
    "region_dict = {'Alabama' : 'South',\n",
    "               'Alaska' : 'West',\n",
    "               'Arizona' : 'West',\n",
    "               'Arkansas' : 'South',\n",
    "               'California' : 'West',\n",
    "               'Colorado' : 'West',\n",
    "               'Connecticut' : 'Northeast',\n",
    "               'Delaware' : 'South',\n",
    "               'District of Columbia' : 'South',\n",
    "               'Florida' : 'South',\n",
    "               'Georgia' : 'South',\n",
    "               'Hawaii' : 'West',\n",
    "               'Idaho' : 'West',\n",
    "               'Illinois' : 'Midwest',\n",
    "               'Indiana' : 'Midwest',\n",
    "               'Iowa' : 'Midwest',\n",
    "               'Kansas' : 'Midwest',\n",
    "               'Kentucky' : 'South',\n",
    "               'Louisiana' : 'South',\n",
    "               'Maine' : 'Northeast',\n",
    "               'Maryland' : 'South',\n",
    "               'Massachusetts' : 'Northeast',\n",
    "               'Michigan' : 'Midwest',\n",
    "               'Minnesota' : 'Midwest',\n",
    "               'Mississippi' : 'South',\n",
    "               'Missouri' : 'Midwest',\n",
    "               'Montana' : 'West',\n",
    "               'Nebraska' : 'Midwest',\n",
    "               'Nevada' : 'West',\n",
    "               'New Hampshire' : 'Northeast',\n",
    "               'New Jersey' : 'Northeast',\n",
    "               'New Mexico' : 'West',\n",
    "               'New York' : 'Northeast',\n",
    "               'North Carolina' : 'South',\n",
    "               'North Dakota' : 'Midwest',\n",
    "               'Ohio' : 'Midwest',\n",
    "               'Oklahoma' : 'South',\n",
    "               'Oregon' : 'West',\n",
    "               'Pennsylvania' : 'Northeast',\n",
    "               'Rhode Island' : 'Northeast',\n",
    "               'South Carolina' : 'South',\n",
    "               'South Dakota' : 'Midwest',\n",
    "               'Tennessee' : 'South',\n",
    "               'Texas' : 'South',\n",
    "               'Utah' : 'West',\n",
    "               'Vermont' : 'Northeast',\n",
    "               'Virginia' : 'South',\n",
    "               'Washington' : 'West',\n",
    "               'West Virginia' : 'South',\n",
    "               'Wisconsin' : 'Midwest',\n",
    "               'Wyoming': 'West'}"
   ]
  },
  {
   "cell_type": "code",
   "execution_count": 21,
   "id": "d7b0e706",
   "metadata": {},
   "outputs": [],
   "source": [
    "df['region'] = [region_dict[state] for state in df['state']]"
   ]
  },
  {
   "cell_type": "code",
   "execution_count": 22,
   "id": "60960ba5",
   "metadata": {},
   "outputs": [],
   "source": [
    "election_2020_dict = {'Alabama' : 'Red',\n",
    "               'Alaska' : 'Red',\n",
    "               'Arizona' : 'Blue',\n",
    "               'Arkansas' : 'Red',\n",
    "               'California' : 'Blue',\n",
    "               'Colorado' : 'Blue',\n",
    "               'Connecticut' : 'Blue',\n",
    "               'Delaware' : 'Blue',\n",
    "               'District of Columbia' : 'Blue',\n",
    "               'Florida' : 'Red',\n",
    "               'Georgia' : 'Blue',\n",
    "               'Hawaii' : 'Blue',\n",
    "               'Idaho' : 'Red',\n",
    "               'Illinois' : 'Blue',\n",
    "               'Indiana' : 'Red',\n",
    "               'Iowa' : 'Red',\n",
    "               'Kansas' : 'Red',\n",
    "               'Kentucky' : 'Red',\n",
    "               'Louisiana' : 'Red',\n",
    "               'Maine' : 'Blue',\n",
    "               'Maryland' : 'Blue',\n",
    "               'Massachusetts' : 'Blue',\n",
    "               'Michigan' : 'Blue',\n",
    "               'Minnesota' : 'Blue',\n",
    "               'Mississippi' : 'Red',\n",
    "               'Missouri' : 'Red',\n",
    "               'Montana' : 'Red',\n",
    "               'Nebraska' : 'Red',\n",
    "               'Nevada' : 'Blue',\n",
    "               'New Hampshire' : 'Blue',\n",
    "               'New Jersey' : 'Blue',\n",
    "               'New Mexico' : 'Blue',\n",
    "               'New York' : 'Blue',\n",
    "               'North Carolina' : 'Red',\n",
    "               'North Dakota' : 'Red',\n",
    "               'Ohio' : 'Red',\n",
    "               'Oklahoma' : 'Red',\n",
    "               'Oregon' : 'Blue',\n",
    "               'Pennsylvania' : 'Blue',\n",
    "               'Rhode Island' : 'Blue',\n",
    "               'South Carolina' : 'Red',\n",
    "               'South Dakota' : 'Red',\n",
    "               'Tennessee' : 'Red',\n",
    "               'Texas' : 'Red',\n",
    "               'Utah' : 'Red',\n",
    "               'Vermont' : 'Blue',\n",
    "               'Virginia' : 'Blue',\n",
    "               'Washington' : 'Blue',\n",
    "               'West Virginia' : 'Red',\n",
    "               'Wisconsin' : 'Blue',\n",
    "               'Wyoming': 'Red'}"
   ]
  },
  {
   "cell_type": "code",
   "execution_count": 23,
   "id": "f13be125",
   "metadata": {},
   "outputs": [],
   "source": [
    "df['elect_res_2020'] = [election_2020_dict[state] for state in df['state']]"
   ]
  },
  {
   "cell_type": "code",
   "execution_count": 24,
   "id": "1f7df2c8",
   "metadata": {},
   "outputs": [
    {
     "data": {
      "text/plain": [
       "Index(['year', 'state', 'gun_death_rate', 'gun_deaths', 'any_other_weapon',\n",
       "       'destructive_device', 'machinegun', 'silencer', 'short_barreled_rifle',\n",
       "       'short_barreled_shotgun', 'total_weapons', 'population', 'state_id',\n",
       "       'region', 'elect_res_2020'],\n",
       "      dtype='object')"
      ]
     },
     "execution_count": 24,
     "metadata": {},
     "output_type": "execute_result"
    }
   ],
   "source": [
    "df.columns"
   ]
  },
  {
   "cell_type": "code",
   "execution_count": 25,
   "id": "f87f20a0",
   "metadata": {
    "scrolled": false
   },
   "outputs": [
    {
     "data": {
      "image/png": "[encoded data removed]",
      "text/plain": [
       "<Figure size 864x576 with 1 Axes>"
      ]
     },
     "metadata": {
      "needs_background": "light"
     },
     "output_type": "display_data"
    }
   ],
   "source": [
    "plt.figure(figsize=(12, 8))\n",
    "plt.title(\"Gun Deaths by Region (2014-2019)\", fontsize= 15, pad= 10)\n",
    "plt.xlabel('Population')\n",
    "plt.ylabel('Gun Deaths')\n",
    "sns.scatterplot(data= df, x= (df['population']/10000), y= 'gun_deaths', hue= 'region')\n",
    "plt.legend(fontsize=13, title= 'Region', title_fontsize = 14, markerscale= 2);"
   ]
  },
  {
   "cell_type": "code",
   "execution_count": 26,
   "id": "1eb94090",
   "metadata": {},
   "outputs": [
    {
     "data": {
      "image/png": "[encoded data removed]",
      "text/plain": [
       "<Figure size 864x576 with 1 Axes>"
      ]
     },
     "metadata": {
      "needs_background": "light"
     },
     "output_type": "display_data"
    }
   ],
   "source": [
    "plt.figure(figsize=(12, 8))\n",
    "plt.title(\"Gun Deaths by 2020 Political Affiliation (2014-2019)\", fontsize= 15, pad= 10)\n",
    "plt.xlabel('Population')\n",
    "plt.ylabel('Gun Deaths')\n",
    "sns.scatterplot(data= df, x= (df['population']/10000), y= 'gun_deaths', hue= 'elect_res_2020',\n",
    "                palette= ['red','blue']) #make red appear red and blue appear blue\n",
    "plt.legend(fontsize=13, title= '2020 Presidential\\nElection Results', title_fontsize = 13, markerscale= 2);"
   ]
  },
  {
   "cell_type": "code",
   "execution_count": 27,
   "id": "2425f704",
   "metadata": {},
   "outputs": [
    {
     "data": {
      "text/plain": [
       "year                        int64\n",
       "state                      object\n",
       "gun_death_rate            float64\n",
       "gun_deaths                  int64\n",
       "any_other_weapon            int64\n",
       "destructive_device          int64\n",
       "machinegun                  int64\n",
       "silencer                    int64\n",
       "short_barreled_rifle        int64\n",
       "short_barreled_shotgun      int64\n",
       "total_weapons               int64\n",
       "population                  int64\n",
       "state_id                    int64\n",
       "region                     object\n",
       "elect_res_2020             object\n",
       "dtype: object"
      ]
     },
     "execution_count": 27,
     "metadata": {},
     "output_type": "execute_result"
    }
   ],
   "source": [
    "df.dtypes"
   ]
  },
  {
   "cell_type": "code",
   "execution_count": 28,
   "id": "b769e884",
   "metadata": {},
   "outputs": [],
   "source": [
    "df = pd.get_dummies(data= df, columns=['state'], drop_first= True)"
   ]
  },
  {
   "cell_type": "code",
   "execution_count": 29,
   "id": "4c242ad7",
   "metadata": {},
   "outputs": [],
   "source": [
    "df = pd.get_dummies(data= df, columns=['region'], drop_first= True)"
   ]
  },
  {
   "cell_type": "code",
   "execution_count": 30,
   "id": "9e1c1a98",
   "metadata": {},
   "outputs": [],
   "source": [
    "df = pd.get_dummies(data= df, columns=['elect_res_2020'], drop_first= True)"
   ]
  },
  {
   "cell_type": "code",
   "execution_count": 31,
   "id": "fd3a8f5d",
   "metadata": {
    "scrolled": true
   },
   "outputs": [
    {
     "data": {
      "text/html": [
       "<div>\n",
       "<style scoped>\n",
       "    .dataframe tbody tr th:only-of-type {\n",
       "        vertical-align: middle;\n",
       "    }\n",
       "\n",
       "    .dataframe tbody tr th {\n",
       "        vertical-align: top;\n",
       "    }\n",
       "\n",
       "    .dataframe thead th {\n",
       "        text-align: right;\n",
       "    }\n",
       "</style>\n",
       "<table border=\"1\" class=\"dataframe\">\n",
       "  <thead>\n",
       "    <tr style=\"text-align: right;\">\n",
       "      <th></th>\n",
       "      <th>year</th>\n",
       "      <th>gun_death_rate</th>\n",
       "      <th>gun_deaths</th>\n",
       "      <th>any_other_weapon</th>\n",
       "      <th>destructive_device</th>\n",
       "      <th>machinegun</th>\n",
       "      <th>silencer</th>\n",
       "      <th>short_barreled_rifle</th>\n",
       "      <th>short_barreled_shotgun</th>\n",
       "      <th>total_weapons</th>\n",
       "      <th>...</th>\n",
       "      <th>state_Vermont</th>\n",
       "      <th>state_Virginia</th>\n",
       "      <th>state_Washington</th>\n",
       "      <th>state_West Virginia</th>\n",
       "      <th>state_Wisconsin</th>\n",
       "      <th>state_Wyoming</th>\n",
       "      <th>region_Northeast</th>\n",
       "      <th>region_South</th>\n",
       "      <th>region_West</th>\n",
       "      <th>elect_res_2020_Red</th>\n",
       "    </tr>\n",
       "  </thead>\n",
       "  <tbody>\n",
       "    <tr>\n",
       "      <th>0</th>\n",
       "      <td>2019</td>\n",
       "      <td>24.4</td>\n",
       "      <td>179</td>\n",
       "      <td>332</td>\n",
       "      <td>5346</td>\n",
       "      <td>1674</td>\n",
       "      <td>9250</td>\n",
       "      <td>2503</td>\n",
       "      <td>1415</td>\n",
       "      <td>20520</td>\n",
       "      <td>...</td>\n",
       "      <td>0</td>\n",
       "      <td>0</td>\n",
       "      <td>0</td>\n",
       "      <td>0</td>\n",
       "      <td>0</td>\n",
       "      <td>0</td>\n",
       "      <td>0</td>\n",
       "      <td>0</td>\n",
       "      <td>1</td>\n",
       "      <td>1</td>\n",
       "    </tr>\n",
       "    <tr>\n",
       "      <th>1</th>\n",
       "      <td>2018</td>\n",
       "      <td>21.0</td>\n",
       "      <td>155</td>\n",
       "      <td>328</td>\n",
       "      <td>5032</td>\n",
       "      <td>1650</td>\n",
       "      <td>7107</td>\n",
       "      <td>2131</td>\n",
       "      <td>1324</td>\n",
       "      <td>17572</td>\n",
       "      <td>...</td>\n",
       "      <td>0</td>\n",
       "      <td>0</td>\n",
       "      <td>0</td>\n",
       "      <td>0</td>\n",
       "      <td>0</td>\n",
       "      <td>0</td>\n",
       "      <td>0</td>\n",
       "      <td>0</td>\n",
       "      <td>1</td>\n",
       "      <td>1</td>\n",
       "    </tr>\n",
       "    <tr>\n",
       "      <th>2</th>\n",
       "      <td>2017</td>\n",
       "      <td>24.5</td>\n",
       "      <td>180</td>\n",
       "      <td>327</td>\n",
       "      <td>4722</td>\n",
       "      <td>1650</td>\n",
       "      <td>6040</td>\n",
       "      <td>1783</td>\n",
       "      <td>1302</td>\n",
       "      <td>15824</td>\n",
       "      <td>...</td>\n",
       "      <td>0</td>\n",
       "      <td>0</td>\n",
       "      <td>0</td>\n",
       "      <td>0</td>\n",
       "      <td>0</td>\n",
       "      <td>0</td>\n",
       "      <td>0</td>\n",
       "      <td>0</td>\n",
       "      <td>1</td>\n",
       "      <td>1</td>\n",
       "    </tr>\n",
       "    <tr>\n",
       "      <th>3</th>\n",
       "      <td>2016</td>\n",
       "      <td>23.3</td>\n",
       "      <td>177</td>\n",
       "      <td>322</td>\n",
       "      <td>4651</td>\n",
       "      <td>1652</td>\n",
       "      <td>4213</td>\n",
       "      <td>1333</td>\n",
       "      <td>1268</td>\n",
       "      <td>13439</td>\n",
       "      <td>...</td>\n",
       "      <td>0</td>\n",
       "      <td>0</td>\n",
       "      <td>0</td>\n",
       "      <td>0</td>\n",
       "      <td>0</td>\n",
       "      <td>0</td>\n",
       "      <td>0</td>\n",
       "      <td>0</td>\n",
       "      <td>1</td>\n",
       "      <td>1</td>\n",
       "    </tr>\n",
       "    <tr>\n",
       "      <th>4</th>\n",
       "      <td>2015</td>\n",
       "      <td>23.4</td>\n",
       "      <td>177</td>\n",
       "      <td>320</td>\n",
       "      <td>4499</td>\n",
       "      <td>1674</td>\n",
       "      <td>3527</td>\n",
       "      <td>1162</td>\n",
       "      <td>1242</td>\n",
       "      <td>12424</td>\n",
       "      <td>...</td>\n",
       "      <td>0</td>\n",
       "      <td>0</td>\n",
       "      <td>0</td>\n",
       "      <td>0</td>\n",
       "      <td>0</td>\n",
       "      <td>0</td>\n",
       "      <td>0</td>\n",
       "      <td>0</td>\n",
       "      <td>1</td>\n",
       "      <td>1</td>\n",
       "    </tr>\n",
       "    <tr>\n",
       "      <th>...</th>\n",
       "      <td>...</td>\n",
       "      <td>...</td>\n",
       "      <td>...</td>\n",
       "      <td>...</td>\n",
       "      <td>...</td>\n",
       "      <td>...</td>\n",
       "      <td>...</td>\n",
       "      <td>...</td>\n",
       "      <td>...</td>\n",
       "      <td>...</td>\n",
       "      <td>...</td>\n",
       "      <td>...</td>\n",
       "      <td>...</td>\n",
       "      <td>...</td>\n",
       "      <td>...</td>\n",
       "      <td>...</td>\n",
       "      <td>...</td>\n",
       "      <td>...</td>\n",
       "      <td>...</td>\n",
       "      <td>...</td>\n",
       "      <td>...</td>\n",
       "    </tr>\n",
       "    <tr>\n",
       "      <th>295</th>\n",
       "      <td>2018</td>\n",
       "      <td>21.5</td>\n",
       "      <td>124</td>\n",
       "      <td>317</td>\n",
       "      <td>116571</td>\n",
       "      <td>1804</td>\n",
       "      <td>7769</td>\n",
       "      <td>1223</td>\n",
       "      <td>399</td>\n",
       "      <td>128083</td>\n",
       "      <td>...</td>\n",
       "      <td>0</td>\n",
       "      <td>0</td>\n",
       "      <td>0</td>\n",
       "      <td>0</td>\n",
       "      <td>0</td>\n",
       "      <td>1</td>\n",
       "      <td>0</td>\n",
       "      <td>0</td>\n",
       "      <td>1</td>\n",
       "      <td>1</td>\n",
       "    </tr>\n",
       "    <tr>\n",
       "      <th>296</th>\n",
       "      <td>2017</td>\n",
       "      <td>18.8</td>\n",
       "      <td>113</td>\n",
       "      <td>312</td>\n",
       "      <td>120927</td>\n",
       "      <td>1790</td>\n",
       "      <td>8294</td>\n",
       "      <td>1087</td>\n",
       "      <td>396</td>\n",
       "      <td>132806</td>\n",
       "      <td>...</td>\n",
       "      <td>0</td>\n",
       "      <td>0</td>\n",
       "      <td>0</td>\n",
       "      <td>0</td>\n",
       "      <td>0</td>\n",
       "      <td>1</td>\n",
       "      <td>0</td>\n",
       "      <td>0</td>\n",
       "      <td>1</td>\n",
       "      <td>1</td>\n",
       "    </tr>\n",
       "    <tr>\n",
       "      <th>297</th>\n",
       "      <td>2016</td>\n",
       "      <td>17.4</td>\n",
       "      <td>101</td>\n",
       "      <td>303</td>\n",
       "      <td>120899</td>\n",
       "      <td>1774</td>\n",
       "      <td>3744</td>\n",
       "      <td>675</td>\n",
       "      <td>392</td>\n",
       "      <td>127787</td>\n",
       "      <td>...</td>\n",
       "      <td>0</td>\n",
       "      <td>0</td>\n",
       "      <td>0</td>\n",
       "      <td>0</td>\n",
       "      <td>0</td>\n",
       "      <td>1</td>\n",
       "      <td>0</td>\n",
       "      <td>0</td>\n",
       "      <td>1</td>\n",
       "      <td>1</td>\n",
       "    </tr>\n",
       "    <tr>\n",
       "      <th>298</th>\n",
       "      <td>2015</td>\n",
       "      <td>19.6</td>\n",
       "      <td>113</td>\n",
       "      <td>302</td>\n",
       "      <td>118123</td>\n",
       "      <td>1748</td>\n",
       "      <td>3044</td>\n",
       "      <td>571</td>\n",
       "      <td>388</td>\n",
       "      <td>124176</td>\n",
       "      <td>...</td>\n",
       "      <td>0</td>\n",
       "      <td>0</td>\n",
       "      <td>0</td>\n",
       "      <td>0</td>\n",
       "      <td>0</td>\n",
       "      <td>1</td>\n",
       "      <td>0</td>\n",
       "      <td>0</td>\n",
       "      <td>1</td>\n",
       "      <td>1</td>\n",
       "    </tr>\n",
       "    <tr>\n",
       "      <th>299</th>\n",
       "      <td>2014</td>\n",
       "      <td>16.2</td>\n",
       "      <td>93</td>\n",
       "      <td>300</td>\n",
       "      <td>109127</td>\n",
       "      <td>1747</td>\n",
       "      <td>2040</td>\n",
       "      <td>454</td>\n",
       "      <td>384</td>\n",
       "      <td>114052</td>\n",
       "      <td>...</td>\n",
       "      <td>0</td>\n",
       "      <td>0</td>\n",
       "      <td>0</td>\n",
       "      <td>0</td>\n",
       "      <td>0</td>\n",
       "      <td>1</td>\n",
       "      <td>0</td>\n",
       "      <td>0</td>\n",
       "      <td>1</td>\n",
       "      <td>1</td>\n",
       "    </tr>\n",
       "  </tbody>\n",
       "</table>\n",
       "<p>300 rows × 65 columns</p>\n",
       "</div>"
      ],
      "text/plain": [
       "     year  gun_death_rate  gun_deaths  any_other_weapon  destructive_device  \\\n",
       "0    2019            24.4         179               332                5346   \n",
       "1    2018            21.0         155               328                5032   \n",
       "2    2017            24.5         180               327                4722   \n",
       "3    2016            23.3         177               322                4651   \n",
       "4    2015            23.4         177               320                4499   \n",
       "..    ...             ...         ...               ...                 ...   \n",
       "295  2018            21.5         124               317              116571   \n",
       "296  2017            18.8         113               312              120927   \n",
       "297  2016            17.4         101               303              120899   \n",
       "298  2015            19.6         113               302              118123   \n",
       "299  2014            16.2          93               300              109127   \n",
       "\n",
       "     machinegun  silencer  short_barreled_rifle  short_barreled_shotgun  \\\n",
       "0          1674      9250                  2503                    1415   \n",
       "1          1650      7107                  2131                    1324   \n",
       "2          1650      6040                  1783                    1302   \n",
       "3          1652      4213                  1333                    1268   \n",
       "4          1674      3527                  1162                    1242   \n",
       "..          ...       ...                   ...                     ...   \n",
       "295        1804      7769                  1223                     399   \n",
       "296        1790      8294                  1087                     396   \n",
       "297        1774      3744                   675                     392   \n",
       "298        1748      3044                   571                     388   \n",
       "299        1747      2040                   454                     384   \n",
       "\n",
       "     total_weapons  ...  state_Vermont  state_Virginia  state_Washington  \\\n",
       "0            20520  ...              0               0                 0   \n",
       "1            17572  ...              0               0                 0   \n",
       "2            15824  ...              0               0                 0   \n",
       "3            13439  ...              0               0                 0   \n",
       "4            12424  ...              0               0                 0   \n",
       "..             ...  ...            ...             ...               ...   \n",
       "295         128083  ...              0               0                 0   \n",
       "296         132806  ...              0               0                 0   \n",
       "297         127787  ...              0               0                 0   \n",
       "298         124176  ...              0               0                 0   \n",
       "299         114052  ...              0               0                 0   \n",
       "\n",
       "     state_West Virginia  state_Wisconsin  state_Wyoming  region_Northeast  \\\n",
       "0                      0                0              0                 0   \n",
       "1                      0                0              0                 0   \n",
       "2                      0                0              0                 0   \n",
       "3                      0                0              0                 0   \n",
       "4                      0                0              0                 0   \n",
       "..                   ...              ...            ...               ...   \n",
       "295                    0                0              1                 0   \n",
       "296                    0                0              1                 0   \n",
       "297                    0                0              1                 0   \n",
       "298                    0                0              1                 0   \n",
       "299                    0                0              1                 0   \n",
       "\n",
       "     region_South  region_West  elect_res_2020_Red  \n",
       "0               0            1                   1  \n",
       "1               0            1                   1  \n",
       "2               0            1                   1  \n",
       "3               0            1                   1  \n",
       "4               0            1                   1  \n",
       "..            ...          ...                 ...  \n",
       "295             0            1                   1  \n",
       "296             0            1                   1  \n",
       "297             0            1                   1  \n",
       "298             0            1                   1  \n",
       "299             0            1                   1  \n",
       "\n",
       "[300 rows x 65 columns]"
      ]
     },
     "execution_count": 31,
     "metadata": {},
     "output_type": "execute_result"
    }
   ],
   "source": [
    "df"
   ]
  },
  {
   "cell_type": "code",
   "execution_count": 32,
   "id": "7f506491",
   "metadata": {},
   "outputs": [],
   "source": [
    "df['log_gun_death'] = np.log(df['gun_deaths'])"
   ]
  },
  {
   "cell_type": "code",
   "execution_count": 33,
   "id": "2b42dd47",
   "metadata": {
    "scrolled": true
   },
   "outputs": [
    {
     "data": {
      "text/plain": [
       "Index(['year', 'gun_death_rate', 'gun_deaths', 'any_other_weapon',\n",
       "       'destructive_device', 'machinegun', 'silencer', 'short_barreled_rifle',\n",
       "       'short_barreled_shotgun', 'total_weapons', 'population', 'state_id',\n",
       "       'state_Alaska', 'state_Arizona', 'state_Arkansas', 'state_California',\n",
       "       'state_Colorado', 'state_Connecticut', 'state_Delaware',\n",
       "       'state_Florida', 'state_Georgia', 'state_Hawaii', 'state_Idaho',\n",
       "       'state_Illinois', 'state_Indiana', 'state_Iowa', 'state_Kansas',\n",
       "       'state_Kentucky', 'state_Louisiana', 'state_Maine', 'state_Maryland',\n",
       "       'state_Massachusetts', 'state_Michigan', 'state_Minnesota',\n",
       "       'state_Mississippi', 'state_Missouri', 'state_Montana',\n",
       "       'state_Nebraska', 'state_Nevada', 'state_New Hampshire',\n",
       "       'state_New Jersey', 'state_New Mexico', 'state_New York',\n",
       "       'state_North Carolina', 'state_North Dakota', 'state_Ohio',\n",
       "       'state_Oklahoma', 'state_Oregon', 'state_Pennsylvania',\n",
       "       'state_Rhode Island', 'state_South Carolina', 'state_South Dakota',\n",
       "       'state_Tennessee', 'state_Texas', 'state_Utah', 'state_Vermont',\n",
       "       'state_Virginia', 'state_Washington', 'state_West Virginia',\n",
       "       'state_Wisconsin', 'state_Wyoming', 'region_Northeast', 'region_South',\n",
       "       'region_West', 'elect_res_2020_Red', 'log_gun_death'],\n",
       "      dtype='object')"
      ]
     },
     "execution_count": 33,
     "metadata": {},
     "output_type": "execute_result"
    }
   ],
   "source": [
    "df.columns"
   ]
  },
  {
   "cell_type": "code",
   "execution_count": 34,
   "id": "a576be28",
   "metadata": {},
   "outputs": [],
   "source": [
    "features = ['year', 'any_other_weapon',\n",
    "       'destructive_device', 'machinegun', 'silencer', 'short_barreled_rifle',\n",
    "       'short_barreled_shotgun', 'total_weapons', 'population',\n",
    "       'state_Alaska', 'state_Arizona', 'state_Arkansas', 'state_California',\n",
    "       'state_Colorado', 'state_Connecticut', 'state_Delaware',\n",
    "       'state_Florida', 'state_Georgia', 'state_Hawaii', 'state_Idaho',\n",
    "       'state_Illinois', 'state_Indiana', 'state_Iowa', 'state_Kansas',\n",
    "       'state_Kentucky', 'state_Louisiana', 'state_Maine', 'state_Maryland',\n",
    "       'state_Massachusetts', 'state_Michigan', 'state_Minnesota',\n",
    "       'state_Mississippi', 'state_Missouri', 'state_Montana',\n",
    "       'state_Nebraska', 'state_Nevada', 'state_New Hampshire',\n",
    "       'state_New Jersey', 'state_New Mexico', 'state_New York',\n",
    "       'state_North Carolina', 'state_North Dakota', 'state_Ohio',\n",
    "       'state_Oklahoma', 'state_Oregon', 'state_Pennsylvania',\n",
    "       'state_Rhode Island', 'state_South Carolina', 'state_South Dakota',\n",
    "       'state_Tennessee', 'state_Texas', 'state_Utah', 'state_Vermont',\n",
    "       'state_Virginia', 'state_Washington', 'state_West Virginia',\n",
    "       'state_Wisconsin', 'state_Wyoming', 'region_Northeast', 'region_South',\n",
    "       'region_West', 'elect_res_2020_Red']"
   ]
  },
  {
   "cell_type": "code",
   "execution_count": 35,
   "id": "5663bcc9",
   "metadata": {},
   "outputs": [],
   "source": [
    "train = df[df['year'] < 2019]"
   ]
  },
  {
   "cell_type": "code",
   "execution_count": 36,
   "id": "d8c28d0b",
   "metadata": {},
   "outputs": [],
   "source": [
    "test = df[df['year'] == 2019]"
   ]
  },
  {
   "cell_type": "code",
   "execution_count": 37,
   "id": "5abe7961",
   "metadata": {},
   "outputs": [],
   "source": [
    "X_train= train[features]\n",
    "X_test= test[features]\n",
    "y_train= train['log_gun_death']\n",
    "y_test= test['log_gun_death']"
   ]
  },
  {
   "cell_type": "code",
   "execution_count": 38,
   "id": "c84d9fae",
   "metadata": {},
   "outputs": [],
   "source": [
    "lr = LinearRegression()"
   ]
  },
  {
   "cell_type": "code",
   "execution_count": 39,
   "id": "1f86c628",
   "metadata": {},
   "outputs": [
    {
     "data": {
      "text/plain": [
       "LinearRegression()"
      ]
     },
     "execution_count": 39,
     "metadata": {},
     "output_type": "execute_result"
    }
   ],
   "source": [
    "lr.fit(X_train, y_train)"
   ]
  },
  {
   "cell_type": "code",
   "execution_count": 40,
   "id": "3313ad5f",
   "metadata": {},
   "outputs": [
    {
     "data": {
      "text/plain": [
       "0.9958998424774952"
      ]
     },
     "execution_count": 40,
     "metadata": {},
     "output_type": "execute_result"
    }
   ],
   "source": [
    "lr.score(X_train, y_train)"
   ]
  },
  {
   "cell_type": "code",
   "execution_count": 41,
   "id": "8428eae0",
   "metadata": {},
   "outputs": [
    {
     "data": {
      "text/plain": [
       "0.9901122426687815"
      ]
     },
     "execution_count": 41,
     "metadata": {},
     "output_type": "execute_result"
    }
   ],
   "source": [
    "lr.score(X_test, y_test)"
   ]
  },
  {
   "cell_type": "code",
   "execution_count": 42,
   "id": "4b32d7c7",
   "metadata": {},
   "outputs": [
    {
     "data": {
      "text/html": [
       "<div>\n",
       "<style scoped>\n",
       "    .dataframe tbody tr th:only-of-type {\n",
       "        vertical-align: middle;\n",
       "    }\n",
       "\n",
       "    .dataframe tbody tr th {\n",
       "        vertical-align: top;\n",
       "    }\n",
       "\n",
       "    .dataframe thead th {\n",
       "        text-align: right;\n",
       "    }\n",
       "</style>\n",
       "<table border=\"1\" class=\"dataframe\">\n",
       "  <thead>\n",
       "    <tr style=\"text-align: right;\">\n",
       "      <th></th>\n",
       "      <th>column</th>\n",
       "      <th>coef</th>\n",
       "    </tr>\n",
       "  </thead>\n",
       "  <tbody>\n",
       "    <tr>\n",
       "      <th>0</th>\n",
       "      <td>year</td>\n",
       "      <td>0.036816</td>\n",
       "    </tr>\n",
       "    <tr>\n",
       "      <th>1</th>\n",
       "      <td>any_other_weapon</td>\n",
       "      <td>0.047315</td>\n",
       "    </tr>\n",
       "    <tr>\n",
       "      <th>2</th>\n",
       "      <td>destructive_device</td>\n",
       "      <td>0.047286</td>\n",
       "    </tr>\n",
       "    <tr>\n",
       "      <th>3</th>\n",
       "      <td>machinegun</td>\n",
       "      <td>0.047286</td>\n",
       "    </tr>\n",
       "    <tr>\n",
       "      <th>4</th>\n",
       "      <td>silencer</td>\n",
       "      <td>0.047288</td>\n",
       "    </tr>\n",
       "    <tr>\n",
       "      <th>...</th>\n",
       "      <td>...</td>\n",
       "      <td>...</td>\n",
       "    </tr>\n",
       "    <tr>\n",
       "      <th>57</th>\n",
       "      <td>state_Wyoming</td>\n",
       "      <td>-1.054076</td>\n",
       "    </tr>\n",
       "    <tr>\n",
       "      <th>58</th>\n",
       "      <td>region_Northeast</td>\n",
       "      <td>-0.722570</td>\n",
       "    </tr>\n",
       "    <tr>\n",
       "      <th>59</th>\n",
       "      <td>region_South</td>\n",
       "      <td>0.773235</td>\n",
       "    </tr>\n",
       "    <tr>\n",
       "      <th>60</th>\n",
       "      <td>region_West</td>\n",
       "      <td>-0.191721</td>\n",
       "    </tr>\n",
       "    <tr>\n",
       "      <th>61</th>\n",
       "      <td>elect_res_2020_Red</td>\n",
       "      <td>-0.098117</td>\n",
       "    </tr>\n",
       "  </tbody>\n",
       "</table>\n",
       "<p>62 rows × 2 columns</p>\n",
       "</div>"
      ],
      "text/plain": [
       "                column      coef\n",
       "0                 year  0.036816\n",
       "1     any_other_weapon  0.047315\n",
       "2   destructive_device  0.047286\n",
       "3           machinegun  0.047286\n",
       "4             silencer  0.047288\n",
       "..                 ...       ...\n",
       "57       state_Wyoming -1.054076\n",
       "58    region_Northeast -0.722570\n",
       "59        region_South  0.773235\n",
       "60         region_West -0.191721\n",
       "61  elect_res_2020_Red -0.098117\n",
       "\n",
       "[62 rows x 2 columns]"
      ]
     },
     "execution_count": 42,
     "metadata": {},
     "output_type": "execute_result"
    }
   ],
   "source": [
    "pd.DataFrame({\n",
    "    \"column\":X_train.columns,\n",
    "    \"coef\": lr.coef_\n",
    "})"
   ]
  },
  {
   "cell_type": "code",
   "execution_count": 43,
   "id": "38cdae14",
   "metadata": {},
   "outputs": [
    {
     "data": {
      "text/plain": [
       "0.9958998424774952"
      ]
     },
     "execution_count": 43,
     "metadata": {},
     "output_type": "execute_result"
    }
   ],
   "source": [
    "lr.score(X_train, y_train)"
   ]
  },
  {
   "cell_type": "code",
   "execution_count": 44,
   "id": "5a7e250a",
   "metadata": {},
   "outputs": [
    {
     "data": {
      "text/plain": [
       "0.9901122426687815"
      ]
     },
     "execution_count": 44,
     "metadata": {},
     "output_type": "execute_result"
    }
   ],
   "source": [
    "lr.score(X_test, y_test)"
   ]
  },
  {
   "cell_type": "code",
   "execution_count": 45,
   "id": "775fbaeb",
   "metadata": {},
   "outputs": [],
   "source": [
    "train_baseline = [np.mean(y_train)] * len(y_train)\n",
    "test_baseline = [np.mean(y_train)] * len(y_test)"
   ]
  },
  {
   "cell_type": "code",
   "execution_count": 46,
   "id": "671e7f94",
   "metadata": {},
   "outputs": [
    {
     "data": {
      "text/plain": [
       "46.669117781424575"
      ]
     },
     "execution_count": 46,
     "metadata": {},
     "output_type": "execute_result"
    }
   ],
   "source": [
    "mean_squared_error(np.exp(y_train), np.exp(lr.predict(X_train)), squared= False)"
   ]
  },
  {
   "cell_type": "code",
   "execution_count": 47,
   "id": "290c8987",
   "metadata": {},
   "outputs": [
    {
     "data": {
      "text/plain": [
       "774.7537855815633"
      ]
     },
     "execution_count": 47,
     "metadata": {},
     "output_type": "execute_result"
    }
   ],
   "source": [
    "mean_squared_error(np.exp(y_train), np.exp(train_baseline), squared= False)"
   ]
  },
  {
   "cell_type": "code",
   "execution_count": 48,
   "id": "9f4b935e",
   "metadata": {},
   "outputs": [
    {
     "data": {
      "text/plain": [
       "108.509541110743"
      ]
     },
     "execution_count": 48,
     "metadata": {},
     "output_type": "execute_result"
    }
   ],
   "source": [
    "mean_squared_error(np.exp(y_test), np.exp(lr.predict(X_test)), squared= False)"
   ]
  },
  {
   "cell_type": "code",
   "execution_count": 49,
   "id": "600be391",
   "metadata": {},
   "outputs": [
    {
     "data": {
      "text/plain": [
       "824.2095585781691"
      ]
     },
     "execution_count": 49,
     "metadata": {},
     "output_type": "execute_result"
    }
   ],
   "source": [
    "mean_squared_error(np.exp(y_test), np.exp(test_baseline), squared= False)"
   ]
  },
  {
   "cell_type": "code",
   "execution_count": 50,
   "id": "f3c5b21c",
   "metadata": {},
   "outputs": [
    {
     "data": {
      "image/png": "[encoded data removed]",
      "text/plain": [
       "<Figure size 432x288 with 1 Axes>"
      ]
     },
     "metadata": {
      "needs_background": "light"
     },
     "output_type": "display_data"
    }
   ],
   "source": [
    "plt.title(\"Histogram - Gun Death\", fontsize= 18, pad= 10)\n",
    "plt.hist(df['gun_deaths'], bins= 30);"
   ]
  },
  {
   "cell_type": "code",
   "execution_count": 51,
   "id": "3f09b981",
   "metadata": {
    "scrolled": false
   },
   "outputs": [
    {
     "data": {
      "image/png": "[encoded data removed]",
      "text/plain": [
       "<Figure size 432x288 with 1 Axes>"
      ]
     },
     "metadata": {
      "needs_background": "light"
     },
     "output_type": "display_data"
    }
   ],
   "source": [
    "plt.title(\"Histogram - Log of Gun Death\", fontsize= 18, pad= 10)\n",
    "plt.hist(np.log(df['gun_deaths']), bins= 30);"
   ]
  },
  {
   "cell_type": "code",
   "execution_count": 52,
   "id": "0b235ecf",
   "metadata": {
    "scrolled": true
   },
   "outputs": [
    {
     "data": {
      "image/png": "[encoded data removed]",
      "text/plain": [
       "<Figure size 432x288 with 1 Axes>"
      ]
     },
     "metadata": {
      "needs_background": "light"
     },
     "output_type": "display_data"
    }
   ],
   "source": [
    "plt.title(\"Gun Deaths by State Population (2014-2019)\", fontsize= 15, pad= 10)\n",
    "plt.xlabel('Population')\n",
    "plt.ylabel('Gun Deaths')\n",
    "sns.scatterplot(data= df, x= (df['population']/10000), y= 'gun_deaths', hue= 'elect_res_2020_Red');"
   ]
  },
  {
   "cell_type": "code",
   "execution_count": 53,
   "id": "1b850f8b",
   "metadata": {},
   "outputs": [
    {
     "data": {
      "text/plain": [
       "Index(['year', 'gun_death_rate', 'gun_deaths', 'any_other_weapon',\n",
       "       'destructive_device', 'machinegun', 'silencer', 'short_barreled_rifle',\n",
       "       'short_barreled_shotgun', 'total_weapons', 'population', 'state_id',\n",
       "       'state_Alaska', 'state_Arizona', 'state_Arkansas', 'state_California',\n",
       "       'state_Colorado', 'state_Connecticut', 'state_Delaware',\n",
       "       'state_Florida', 'state_Georgia', 'state_Hawaii', 'state_Idaho',\n",
       "       'state_Illinois', 'state_Indiana', 'state_Iowa', 'state_Kansas',\n",
       "       'state_Kentucky', 'state_Louisiana', 'state_Maine', 'state_Maryland',\n",
       "       'state_Massachusetts', 'state_Michigan', 'state_Minnesota',\n",
       "       'state_Mississippi', 'state_Missouri', 'state_Montana',\n",
       "       'state_Nebraska', 'state_Nevada', 'state_New Hampshire',\n",
       "       'state_New Jersey', 'state_New Mexico', 'state_New York',\n",
       "       'state_North Carolina', 'state_North Dakota', 'state_Ohio',\n",
       "       'state_Oklahoma', 'state_Oregon', 'state_Pennsylvania',\n",
       "       'state_Rhode Island', 'state_South Carolina', 'state_South Dakota',\n",
       "       'state_Tennessee', 'state_Texas', 'state_Utah', 'state_Vermont',\n",
       "       'state_Virginia', 'state_Washington', 'state_West Virginia',\n",
       "       'state_Wisconsin', 'state_Wyoming', 'region_Northeast', 'region_South',\n",
       "       'region_West', 'elect_res_2020_Red', 'log_gun_death'],\n",
       "      dtype='object')"
      ]
     },
     "execution_count": 53,
     "metadata": {},
     "output_type": "execute_result"
    }
   ],
   "source": [
    "df.columns"
   ]
  },
  {
   "cell_type": "code",
   "execution_count": 54,
   "id": "be183282",
   "metadata": {},
   "outputs": [
    {
     "data": {
      "text/plain": [
       "0      731545\n",
       "1      735139\n",
       "2      739700\n",
       "3      741456\n",
       "4      737498\n",
       "        ...  \n",
       "295    577601\n",
       "296    578931\n",
       "297    584215\n",
       "298    585613\n",
       "299    582531\n",
       "Name: population, Length: 300, dtype: int64"
      ]
     },
     "execution_count": 54,
     "metadata": {},
     "output_type": "execute_result"
    }
   ],
   "source": [
    "df['population']"
   ]
  },
  {
   "cell_type": "code",
   "execution_count": 55,
   "id": "f479926c",
   "metadata": {},
   "outputs": [
    {
     "data": {
      "text/plain": [
       "<AxesSubplot:>"
      ]
     },
     "execution_count": 55,
     "metadata": {},
     "output_type": "execute_result"
    },
    {
     "data": {
      "image/png": "[encoded data removed]",
      "text/plain": [
       "<Figure size 1296x1296 with 2 Axes>"
      ]
     },
     "metadata": {
      "needs_background": "light"
     },
     "output_type": "display_data"
    }
   ],
   "source": [
    "corr = df.corr()\n",
    "mask = np.zeros_like(corr)\n",
    "mask[np.triu_indices_from(mask)] = True\n",
    "plt.figure(figsize=(18,18))\n",
    "sns.heatmap(data= corr, mask=mask, vmax=1, vmin=-1, cmap= 'RdYlGn')"
   ]
  },
  {
   "cell_type": "code",
   "execution_count": 56,
   "id": "e9399997",
   "metadata": {},
   "outputs": [],
   "source": [
    "## If you want to save the compiled data set, uncomment the line of code below and export the Dataframe as a CSV file.\n",
    "## df.to_csv('./gun_data_2014-2019.csv')"
   ]
  },
  {
   "cell_type": "code",
   "execution_count": 57,
   "id": "a5c804f7",
   "metadata": {
    "scrolled": true
   },
   "outputs": [
    {
     "data": {
      "text/html": [
       "<div>\n",
       "<style scoped>\n",
       "    .dataframe tbody tr th:only-of-type {\n",
       "        vertical-align: middle;\n",
       "    }\n",
       "\n",
       "    .dataframe tbody tr th {\n",
       "        vertical-align: top;\n",
       "    }\n",
       "\n",
       "    .dataframe thead th {\n",
       "        text-align: right;\n",
       "    }\n",
       "</style>\n",
       "<table border=\"1\" class=\"dataframe\">\n",
       "  <thead>\n",
       "    <tr style=\"text-align: right;\">\n",
       "      <th></th>\n",
       "      <th>year</th>\n",
       "      <th>gun_death_rate</th>\n",
       "      <th>gun_deaths</th>\n",
       "      <th>any_other_weapon</th>\n",
       "      <th>destructive_device</th>\n",
       "      <th>machinegun</th>\n",
       "      <th>silencer</th>\n",
       "      <th>short_barreled_rifle</th>\n",
       "      <th>short_barreled_shotgun</th>\n",
       "      <th>total_weapons</th>\n",
       "      <th>...</th>\n",
       "      <th>state_Virginia</th>\n",
       "      <th>state_Washington</th>\n",
       "      <th>state_West Virginia</th>\n",
       "      <th>state_Wisconsin</th>\n",
       "      <th>state_Wyoming</th>\n",
       "      <th>region_Northeast</th>\n",
       "      <th>region_South</th>\n",
       "      <th>region_West</th>\n",
       "      <th>elect_res_2020_Red</th>\n",
       "      <th>log_gun_death</th>\n",
       "    </tr>\n",
       "  </thead>\n",
       "  <tbody>\n",
       "    <tr>\n",
       "      <th>0</th>\n",
       "      <td>2019</td>\n",
       "      <td>24.4</td>\n",
       "      <td>179</td>\n",
       "      <td>332</td>\n",
       "      <td>5346</td>\n",
       "      <td>1674</td>\n",
       "      <td>9250</td>\n",
       "      <td>2503</td>\n",
       "      <td>1415</td>\n",
       "      <td>20520</td>\n",
       "      <td>...</td>\n",
       "      <td>0</td>\n",
       "      <td>0</td>\n",
       "      <td>0</td>\n",
       "      <td>0</td>\n",
       "      <td>0</td>\n",
       "      <td>0</td>\n",
       "      <td>0</td>\n",
       "      <td>1</td>\n",
       "      <td>1</td>\n",
       "      <td>5.187386</td>\n",
       "    </tr>\n",
       "    <tr>\n",
       "      <th>1</th>\n",
       "      <td>2018</td>\n",
       "      <td>21.0</td>\n",
       "      <td>155</td>\n",
       "      <td>328</td>\n",
       "      <td>5032</td>\n",
       "      <td>1650</td>\n",
       "      <td>7107</td>\n",
       "      <td>2131</td>\n",
       "      <td>1324</td>\n",
       "      <td>17572</td>\n",
       "      <td>...</td>\n",
       "      <td>0</td>\n",
       "      <td>0</td>\n",
       "      <td>0</td>\n",
       "      <td>0</td>\n",
       "      <td>0</td>\n",
       "      <td>0</td>\n",
       "      <td>0</td>\n",
       "      <td>1</td>\n",
       "      <td>1</td>\n",
       "      <td>5.043425</td>\n",
       "    </tr>\n",
       "    <tr>\n",
       "      <th>2</th>\n",
       "      <td>2017</td>\n",
       "      <td>24.5</td>\n",
       "      <td>180</td>\n",
       "      <td>327</td>\n",
       "      <td>4722</td>\n",
       "      <td>1650</td>\n",
       "      <td>6040</td>\n",
       "      <td>1783</td>\n",
       "      <td>1302</td>\n",
       "      <td>15824</td>\n",
       "      <td>...</td>\n",
       "      <td>0</td>\n",
       "      <td>0</td>\n",
       "      <td>0</td>\n",
       "      <td>0</td>\n",
       "      <td>0</td>\n",
       "      <td>0</td>\n",
       "      <td>0</td>\n",
       "      <td>1</td>\n",
       "      <td>1</td>\n",
       "      <td>5.192957</td>\n",
       "    </tr>\n",
       "    <tr>\n",
       "      <th>3</th>\n",
       "      <td>2016</td>\n",
       "      <td>23.3</td>\n",
       "      <td>177</td>\n",
       "      <td>322</td>\n",
       "      <td>4651</td>\n",
       "      <td>1652</td>\n",
       "      <td>4213</td>\n",
       "      <td>1333</td>\n",
       "      <td>1268</td>\n",
       "      <td>13439</td>\n",
       "      <td>...</td>\n",
       "      <td>0</td>\n",
       "      <td>0</td>\n",
       "      <td>0</td>\n",
       "      <td>0</td>\n",
       "      <td>0</td>\n",
       "      <td>0</td>\n",
       "      <td>0</td>\n",
       "      <td>1</td>\n",
       "      <td>1</td>\n",
       "      <td>5.176150</td>\n",
       "    </tr>\n",
       "    <tr>\n",
       "      <th>4</th>\n",
       "      <td>2015</td>\n",
       "      <td>23.4</td>\n",
       "      <td>177</td>\n",
       "      <td>320</td>\n",
       "      <td>4499</td>\n",
       "      <td>1674</td>\n",
       "      <td>3527</td>\n",
       "      <td>1162</td>\n",
       "      <td>1242</td>\n",
       "      <td>12424</td>\n",
       "      <td>...</td>\n",
       "      <td>0</td>\n",
       "      <td>0</td>\n",
       "      <td>0</td>\n",
       "      <td>0</td>\n",
       "      <td>0</td>\n",
       "      <td>0</td>\n",
       "      <td>0</td>\n",
       "      <td>1</td>\n",
       "      <td>1</td>\n",
       "      <td>5.176150</td>\n",
       "    </tr>\n",
       "  </tbody>\n",
       "</table>\n",
       "<p>5 rows × 66 columns</p>\n",
       "</div>"
      ],
      "text/plain": [
       "   year  gun_death_rate  gun_deaths  any_other_weapon  destructive_device  \\\n",
       "0  2019            24.4         179               332                5346   \n",
       "1  2018            21.0         155               328                5032   \n",
       "2  2017            24.5         180               327                4722   \n",
       "3  2016            23.3         177               322                4651   \n",
       "4  2015            23.4         177               320                4499   \n",
       "\n",
       "   machinegun  silencer  short_barreled_rifle  short_barreled_shotgun  \\\n",
       "0        1674      9250                  2503                    1415   \n",
       "1        1650      7107                  2131                    1324   \n",
       "2        1650      6040                  1783                    1302   \n",
       "3        1652      4213                  1333                    1268   \n",
       "4        1674      3527                  1162                    1242   \n",
       "\n",
       "   total_weapons  ...  state_Virginia  state_Washington  state_West Virginia  \\\n",
       "0          20520  ...               0                 0                    0   \n",
       "1          17572  ...               0                 0                    0   \n",
       "2          15824  ...               0                 0                    0   \n",
       "3          13439  ...               0                 0                    0   \n",
       "4          12424  ...               0                 0                    0   \n",
       "\n",
       "   state_Wisconsin  state_Wyoming  region_Northeast  region_South  \\\n",
       "0                0              0                 0             0   \n",
       "1                0              0                 0             0   \n",
       "2                0              0                 0             0   \n",
       "3                0              0                 0             0   \n",
       "4                0              0                 0             0   \n",
       "\n",
       "   region_West  elect_res_2020_Red  log_gun_death  \n",
       "0            1                   1       5.187386  \n",
       "1            1                   1       5.043425  \n",
       "2            1                   1       5.192957  \n",
       "3            1                   1       5.176150  \n",
       "4            1                   1       5.176150  \n",
       "\n",
       "[5 rows x 66 columns]"
      ]
     },
     "execution_count": 57,
     "metadata": {},
     "output_type": "execute_result"
    }
   ],
   "source": [
    "df.head()"
   ]
  },
  {
   "cell_type": "code",
   "execution_count": 58,
   "id": "5be80848",
   "metadata": {},
   "outputs": [
    {
     "name": "stdout",
     "output_type": "stream",
     "text": [
      "1.0\n",
      "0.9742149090249721\n"
     ]
    },
    {
     "data": {
      "text/plain": [
       "128.83470029460233"
      ]
     },
     "execution_count": 58,
     "metadata": {},
     "output_type": "execute_result"
    }
   ],
   "source": [
    "#DecisionTree Scored 1.0 on training, .97 on testing\n",
    "\n",
    "dt = DecisionTreeRegressor()\n",
    "dt.fit(X_train, y_train)\n",
    "\n",
    "print(dt.score(X_train, y_train))\n",
    "print(dt.score(X_test, y_test))\n",
    "\n",
    "#mean_squared_error(np.exp(y_train), np.exp(dt.predict(X_train)), squared= False)\n",
    "\n",
    "#mean_squared_error(np.exp(y_train), np.exp(train_baseline), squared= False)\n",
    "\n",
    "mean_squared_error(np.exp(y_test), np.exp(dt.predict(X_test)), squared= False)\n",
    "\n",
    "#mean_squared_error(np.exp(y_test), np.exp(test_baseline), squared= False)"
   ]
  },
  {
   "cell_type": "code",
   "execution_count": 59,
   "id": "274f0e16",
   "metadata": {},
   "outputs": [
    {
     "name": "stdout",
     "output_type": "stream",
     "text": [
      "{'ccp_alpha': 0, 'max_depth': 13, 'min_samples_leaf': 2, 'min_samples_split': 2}\n",
      "DecisionTreeRegressor(ccp_alpha=0, max_depth=13, min_samples_leaf=2)\n",
      "[0.82551751 0.58094999 0.80336807 0.54270245 0.6493262 ]\n",
      "0.9982954312949339\n",
      "0.9659003791959166\n"
     ]
    },
    {
     "data": {
      "text/plain": [
       "160.39519384089363"
      ]
     },
     "execution_count": 59,
     "metadata": {},
     "output_type": "execute_result"
    }
   ],
   "source": [
    "## Decision Tree GridSearch .99 training, .96 testing\n",
    "\n",
    "\n",
    "\n",
    "params = {'max_depth' :[7,9,11,13],\n",
    "         'min_samples_split': [2,4,6,8],\n",
    "         'min_samples_leaf' : [1,2,3,4,5],\n",
    "          'ccp_alpha' : [0, 0.001, 0.01, 0.1, 1, 10]\n",
    "         }\n",
    "\n",
    "grid = GridSearchCV(dt,\n",
    "                    param_grid = params, cv= 2)\n",
    "\n",
    "grid.fit(X_train, y_train)\n",
    "\n",
    "print(grid.best_params_)\n",
    "print(grid.best_estimator_)\n",
    "print(cross_val_score(grid, X_test, y_test))\n",
    "print(grid.score(X_train, y_train))\n",
    "\n",
    "print(grid.score(X_test, y_test))\n",
    "\n",
    "mean_squared_error(np.exp(y_test), np.exp(grid.predict(X_test)), squared= False)"
   ]
  },
  {
   "cell_type": "code",
   "execution_count": 60,
   "id": "e21fdc25",
   "metadata": {},
   "outputs": [
    {
     "name": "stdout",
     "output_type": "stream",
     "text": [
      "{'ccp_alpha': 0, 'max_depth': 9, 'min_samples_leaf': 5, 'min_samples_split': 7, 'n_estimators': 80}\n",
      "0.9907545017630544\n",
      "0.9772255393480457\n",
      "[0.86650417 0.83950987 0.75208672 0.80160868 0.81723302]\n",
      "0.8445210480617658\n"
     ]
    },
    {
     "data": {
      "text/plain": [
       "122.52483955871334"
      ]
     },
     "execution_count": 60,
     "metadata": {},
     "output_type": "execute_result"
    }
   ],
   "source": [
    "# Random Forrest test:.99, train .98 MSE:107\n",
    "rf = RandomForestRegressor()\n",
    "rf.fit(X_train, y_train)\n",
    "rf.score(X_train, y_train)\n",
    "\n",
    "rf.score(X_test, y_test)\n",
    "\n",
    "params = {'n_estimators' : [70, 75, 80],\n",
    "    'max_depth' :[9,10,11,],\n",
    "         'min_samples_split': [7,8,9],\n",
    "         'min_samples_leaf' : [3,4,5],\n",
    "          'ccp_alpha' : [0, 0.01, 0.1, 1]\n",
    "         }\n",
    "\n",
    "grid_rf = GridSearchCV(rf,\n",
    "                    param_grid = params)\n",
    "\n",
    "grid_rf.fit(X_train, y_train)\n",
    "\n",
    "print(grid_rf.best_params_)\n",
    "print(grid_rf.score(X_train, y_train))\n",
    "print(grid_rf.score(X_test, y_test))\n",
    "print(cross_val_score(grid_rf, X_test, y_test))\n",
    "print(grid_rf.best_score_)\n",
    "#mean_squared_error(np.exp(y_train), np.exp(dt.predict(X_train)), squared= False)\n",
    "\n",
    "#mean_squared_error(np.exp(y_train), np.exp(train_baseline), squared= False)\n",
    "\n",
    "mean_squared_error(np.exp(y_test), np.exp(grid_rf.predict(X_test)), squared= False)\n",
    "\n",
    "#mean_squared_error(np.exp(y_test), np.exp(test_baseline), squared= False)"
   ]
  },
  {
   "cell_type": "code",
   "execution_count": 61,
   "id": "3447b6bf",
   "metadata": {},
   "outputs": [
    {
     "data": {
      "text/plain": [
       "0.8445210480617658"
      ]
     },
     "execution_count": 61,
     "metadata": {},
     "output_type": "execute_result"
    }
   ],
   "source": [
    "grid_rf.best_score_"
   ]
  },
  {
   "cell_type": "code",
   "execution_count": 62,
   "id": "6c01dffd",
   "metadata": {},
   "outputs": [],
   "source": [
    "#not sure I did this right, pretty much copied the lesson, we took the log of our data too so I dont know \n",
    "#if there is something we need to do about y\n",
    "\n",
    "sc = StandardScaler()\n",
    "Z_train = sc.fit_transform(X_train)\n",
    "Z_test  = sc.transform(X_test)\n",
    "\n",
    "pgrid = {\n",
    "    'C' : np.linspace(0.00001, 5, 20),\n",
    "    'loss' : ['epsilon_insensitive', 'squared_epsilon_insensitive']\n",
    "}"
   ]
  },
  {
   "cell_type": "code",
   "execution_count": 63,
   "id": "25b4e048",
   "metadata": {},
   "outputs": [
    {
     "name": "stderr",
     "output_type": "stream",
     "text": [
      "/Users/eduardoolmos/opt/anaconda3/lib/python3.8/site-packages/sklearn/svm/_base.py:985: ConvergenceWarning: Liblinear failed to converge, increase the number of iterations.\n",
      "  warnings.warn(\"Liblinear failed to converge, increase \"\n",
      "/Users/eduardoolmos/opt/anaconda3/lib/python3.8/site-packages/sklearn/svm/_base.py:985: ConvergenceWarning: Liblinear failed to converge, increase the number of iterations.\n",
      "  warnings.warn(\"Liblinear failed to converge, increase \"\n",
      "/Users/eduardoolmos/opt/anaconda3/lib/python3.8/site-packages/sklearn/svm/_base.py:985: ConvergenceWarning: Liblinear failed to converge, increase the number of iterations.\n",
      "  warnings.warn(\"Liblinear failed to converge, increase \"\n",
      "/Users/eduardoolmos/opt/anaconda3/lib/python3.8/site-packages/sklearn/svm/_base.py:985: ConvergenceWarning: Liblinear failed to converge, increase the number of iterations.\n",
      "  warnings.warn(\"Liblinear failed to converge, increase \"\n",
      "/Users/eduardoolmos/opt/anaconda3/lib/python3.8/site-packages/sklearn/svm/_base.py:985: ConvergenceWarning: Liblinear failed to converge, increase the number of iterations.\n",
      "  warnings.warn(\"Liblinear failed to converge, increase \"\n",
      "/Users/eduardoolmos/opt/anaconda3/lib/python3.8/site-packages/sklearn/svm/_base.py:985: ConvergenceWarning: Liblinear failed to converge, increase the number of iterations.\n",
      "  warnings.warn(\"Liblinear failed to converge, increase \"\n",
      "/Users/eduardoolmos/opt/anaconda3/lib/python3.8/site-packages/sklearn/svm/_base.py:985: ConvergenceWarning: Liblinear failed to converge, increase the number of iterations.\n",
      "  warnings.warn(\"Liblinear failed to converge, increase \"\n",
      "/Users/eduardoolmos/opt/anaconda3/lib/python3.8/site-packages/sklearn/svm/_base.py:985: ConvergenceWarning: Liblinear failed to converge, increase the number of iterations.\n",
      "  warnings.warn(\"Liblinear failed to converge, increase \"\n",
      "/Users/eduardoolmos/opt/anaconda3/lib/python3.8/site-packages/sklearn/svm/_base.py:985: ConvergenceWarning: Liblinear failed to converge, increase the number of iterations.\n",
      "  warnings.warn(\"Liblinear failed to converge, increase \"\n",
      "/Users/eduardoolmos/opt/anaconda3/lib/python3.8/site-packages/sklearn/svm/_base.py:985: ConvergenceWarning: Liblinear failed to converge, increase the number of iterations.\n",
      "  warnings.warn(\"Liblinear failed to converge, increase \"\n",
      "/Users/eduardoolmos/opt/anaconda3/lib/python3.8/site-packages/sklearn/svm/_base.py:985: ConvergenceWarning: Liblinear failed to converge, increase the number of iterations.\n",
      "  warnings.warn(\"Liblinear failed to converge, increase \"\n",
      "/Users/eduardoolmos/opt/anaconda3/lib/python3.8/site-packages/sklearn/svm/_base.py:985: ConvergenceWarning: Liblinear failed to converge, increase the number of iterations.\n",
      "  warnings.warn(\"Liblinear failed to converge, increase \"\n",
      "/Users/eduardoolmos/opt/anaconda3/lib/python3.8/site-packages/sklearn/svm/_base.py:985: ConvergenceWarning: Liblinear failed to converge, increase the number of iterations.\n",
      "  warnings.warn(\"Liblinear failed to converge, increase \"\n",
      "/Users/eduardoolmos/opt/anaconda3/lib/python3.8/site-packages/sklearn/svm/_base.py:985: ConvergenceWarning: Liblinear failed to converge, increase the number of iterations.\n",
      "  warnings.warn(\"Liblinear failed to converge, increase \"\n",
      "/Users/eduardoolmos/opt/anaconda3/lib/python3.8/site-packages/sklearn/svm/_base.py:985: ConvergenceWarning: Liblinear failed to converge, increase the number of iterations.\n",
      "  warnings.warn(\"Liblinear failed to converge, increase \"\n",
      "/Users/eduardoolmos/opt/anaconda3/lib/python3.8/site-packages/sklearn/svm/_base.py:985: ConvergenceWarning: Liblinear failed to converge, increase the number of iterations.\n",
      "  warnings.warn(\"Liblinear failed to converge, increase \"\n",
      "/Users/eduardoolmos/opt/anaconda3/lib/python3.8/site-packages/sklearn/svm/_base.py:985: ConvergenceWarning: Liblinear failed to converge, increase the number of iterations.\n",
      "  warnings.warn(\"Liblinear failed to converge, increase \"\n",
      "/Users/eduardoolmos/opt/anaconda3/lib/python3.8/site-packages/sklearn/svm/_base.py:985: ConvergenceWarning: Liblinear failed to converge, increase the number of iterations.\n",
      "  warnings.warn(\"Liblinear failed to converge, increase \"\n",
      "/Users/eduardoolmos/opt/anaconda3/lib/python3.8/site-packages/sklearn/svm/_base.py:985: ConvergenceWarning: Liblinear failed to converge, increase the number of iterations.\n",
      "  warnings.warn(\"Liblinear failed to converge, increase \"\n",
      "/Users/eduardoolmos/opt/anaconda3/lib/python3.8/site-packages/sklearn/svm/_base.py:985: ConvergenceWarning: Liblinear failed to converge, increase the number of iterations.\n",
      "  warnings.warn(\"Liblinear failed to converge, increase \"\n",
      "/Users/eduardoolmos/opt/anaconda3/lib/python3.8/site-packages/sklearn/svm/_base.py:985: ConvergenceWarning: Liblinear failed to converge, increase the number of iterations.\n",
      "  warnings.warn(\"Liblinear failed to converge, increase \"\n",
      "/Users/eduardoolmos/opt/anaconda3/lib/python3.8/site-packages/sklearn/svm/_base.py:985: ConvergenceWarning: Liblinear failed to converge, increase the number of iterations.\n",
      "  warnings.warn(\"Liblinear failed to converge, increase \"\n",
      "/Users/eduardoolmos/opt/anaconda3/lib/python3.8/site-packages/sklearn/svm/_base.py:985: ConvergenceWarning: Liblinear failed to converge, increase the number of iterations.\n",
      "  warnings.warn(\"Liblinear failed to converge, increase \"\n",
      "/Users/eduardoolmos/opt/anaconda3/lib/python3.8/site-packages/sklearn/svm/_base.py:985: ConvergenceWarning: Liblinear failed to converge, increase the number of iterations.\n",
      "  warnings.warn(\"Liblinear failed to converge, increase \"\n",
      "/Users/eduardoolmos/opt/anaconda3/lib/python3.8/site-packages/sklearn/svm/_base.py:985: ConvergenceWarning: Liblinear failed to converge, increase the number of iterations.\n",
      "  warnings.warn(\"Liblinear failed to converge, increase \"\n",
      "/Users/eduardoolmos/opt/anaconda3/lib/python3.8/site-packages/sklearn/svm/_base.py:985: ConvergenceWarning: Liblinear failed to converge, increase the number of iterations.\n",
      "  warnings.warn(\"Liblinear failed to converge, increase \"\n",
      "/Users/eduardoolmos/opt/anaconda3/lib/python3.8/site-packages/sklearn/svm/_base.py:985: ConvergenceWarning: Liblinear failed to converge, increase the number of iterations.\n",
      "  warnings.warn(\"Liblinear failed to converge, increase \"\n",
      "/Users/eduardoolmos/opt/anaconda3/lib/python3.8/site-packages/sklearn/svm/_base.py:985: ConvergenceWarning: Liblinear failed to converge, increase the number of iterations.\n",
      "  warnings.warn(\"Liblinear failed to converge, increase \"\n",
      "/Users/eduardoolmos/opt/anaconda3/lib/python3.8/site-packages/sklearn/svm/_base.py:985: ConvergenceWarning: Liblinear failed to converge, increase the number of iterations.\n",
      "  warnings.warn(\"Liblinear failed to converge, increase \"\n",
      "/Users/eduardoolmos/opt/anaconda3/lib/python3.8/site-packages/sklearn/svm/_base.py:985: ConvergenceWarning: Liblinear failed to converge, increase the number of iterations.\n",
      "  warnings.warn(\"Liblinear failed to converge, increase \"\n",
      "/Users/eduardoolmos/opt/anaconda3/lib/python3.8/site-packages/sklearn/svm/_base.py:985: ConvergenceWarning: Liblinear failed to converge, increase the number of iterations.\n",
      "  warnings.warn(\"Liblinear failed to converge, increase \"\n",
      "/Users/eduardoolmos/opt/anaconda3/lib/python3.8/site-packages/sklearn/svm/_base.py:985: ConvergenceWarning: Liblinear failed to converge, increase the number of iterations.\n",
      "  warnings.warn(\"Liblinear failed to converge, increase \"\n",
      "/Users/eduardoolmos/opt/anaconda3/lib/python3.8/site-packages/sklearn/svm/_base.py:985: ConvergenceWarning: Liblinear failed to converge, increase the number of iterations.\n",
      "  warnings.warn(\"Liblinear failed to converge, increase \"\n",
      "/Users/eduardoolmos/opt/anaconda3/lib/python3.8/site-packages/sklearn/svm/_base.py:985: ConvergenceWarning: Liblinear failed to converge, increase the number of iterations.\n",
      "  warnings.warn(\"Liblinear failed to converge, increase \"\n",
      "/Users/eduardoolmos/opt/anaconda3/lib/python3.8/site-packages/sklearn/svm/_base.py:985: ConvergenceWarning: Liblinear failed to converge, increase the number of iterations.\n",
      "  warnings.warn(\"Liblinear failed to converge, increase \"\n",
      "/Users/eduardoolmos/opt/anaconda3/lib/python3.8/site-packages/sklearn/svm/_base.py:985: ConvergenceWarning: Liblinear failed to converge, increase the number of iterations.\n",
      "  warnings.warn(\"Liblinear failed to converge, increase \"\n",
      "/Users/eduardoolmos/opt/anaconda3/lib/python3.8/site-packages/sklearn/svm/_base.py:985: ConvergenceWarning: Liblinear failed to converge, increase the number of iterations.\n",
      "  warnings.warn(\"Liblinear failed to converge, increase \"\n",
      "/Users/eduardoolmos/opt/anaconda3/lib/python3.8/site-packages/sklearn/svm/_base.py:985: ConvergenceWarning: Liblinear failed to converge, increase the number of iterations.\n",
      "  warnings.warn(\"Liblinear failed to converge, increase \"\n"
     ]
    },
    {
     "name": "stderr",
     "output_type": "stream",
     "text": [
      "/Users/eduardoolmos/opt/anaconda3/lib/python3.8/site-packages/sklearn/svm/_base.py:985: ConvergenceWarning: Liblinear failed to converge, increase the number of iterations.\n",
      "  warnings.warn(\"Liblinear failed to converge, increase \"\n",
      "/Users/eduardoolmos/opt/anaconda3/lib/python3.8/site-packages/sklearn/svm/_base.py:985: ConvergenceWarning: Liblinear failed to converge, increase the number of iterations.\n",
      "  warnings.warn(\"Liblinear failed to converge, increase \"\n",
      "/Users/eduardoolmos/opt/anaconda3/lib/python3.8/site-packages/sklearn/svm/_base.py:985: ConvergenceWarning: Liblinear failed to converge, increase the number of iterations.\n",
      "  warnings.warn(\"Liblinear failed to converge, increase \"\n",
      "/Users/eduardoolmos/opt/anaconda3/lib/python3.8/site-packages/sklearn/svm/_base.py:985: ConvergenceWarning: Liblinear failed to converge, increase the number of iterations.\n",
      "  warnings.warn(\"Liblinear failed to converge, increase \"\n",
      "/Users/eduardoolmos/opt/anaconda3/lib/python3.8/site-packages/sklearn/svm/_base.py:985: ConvergenceWarning: Liblinear failed to converge, increase the number of iterations.\n",
      "  warnings.warn(\"Liblinear failed to converge, increase \"\n",
      "/Users/eduardoolmos/opt/anaconda3/lib/python3.8/site-packages/sklearn/svm/_base.py:985: ConvergenceWarning: Liblinear failed to converge, increase the number of iterations.\n",
      "  warnings.warn(\"Liblinear failed to converge, increase \"\n",
      "/Users/eduardoolmos/opt/anaconda3/lib/python3.8/site-packages/sklearn/svm/_base.py:985: ConvergenceWarning: Liblinear failed to converge, increase the number of iterations.\n",
      "  warnings.warn(\"Liblinear failed to converge, increase \"\n",
      "/Users/eduardoolmos/opt/anaconda3/lib/python3.8/site-packages/sklearn/svm/_base.py:985: ConvergenceWarning: Liblinear failed to converge, increase the number of iterations.\n",
      "  warnings.warn(\"Liblinear failed to converge, increase \"\n",
      "/Users/eduardoolmos/opt/anaconda3/lib/python3.8/site-packages/sklearn/svm/_base.py:985: ConvergenceWarning: Liblinear failed to converge, increase the number of iterations.\n",
      "  warnings.warn(\"Liblinear failed to converge, increase \"\n",
      "/Users/eduardoolmos/opt/anaconda3/lib/python3.8/site-packages/sklearn/svm/_base.py:985: ConvergenceWarning: Liblinear failed to converge, increase the number of iterations.\n",
      "  warnings.warn(\"Liblinear failed to converge, increase \"\n",
      "/Users/eduardoolmos/opt/anaconda3/lib/python3.8/site-packages/sklearn/svm/_base.py:985: ConvergenceWarning: Liblinear failed to converge, increase the number of iterations.\n",
      "  warnings.warn(\"Liblinear failed to converge, increase \"\n",
      "/Users/eduardoolmos/opt/anaconda3/lib/python3.8/site-packages/sklearn/svm/_base.py:985: ConvergenceWarning: Liblinear failed to converge, increase the number of iterations.\n",
      "  warnings.warn(\"Liblinear failed to converge, increase \"\n",
      "/Users/eduardoolmos/opt/anaconda3/lib/python3.8/site-packages/sklearn/svm/_base.py:985: ConvergenceWarning: Liblinear failed to converge, increase the number of iterations.\n",
      "  warnings.warn(\"Liblinear failed to converge, increase \"\n",
      "/Users/eduardoolmos/opt/anaconda3/lib/python3.8/site-packages/sklearn/svm/_base.py:985: ConvergenceWarning: Liblinear failed to converge, increase the number of iterations.\n",
      "  warnings.warn(\"Liblinear failed to converge, increase \"\n",
      "/Users/eduardoolmos/opt/anaconda3/lib/python3.8/site-packages/sklearn/svm/_base.py:985: ConvergenceWarning: Liblinear failed to converge, increase the number of iterations.\n",
      "  warnings.warn(\"Liblinear failed to converge, increase \"\n",
      "/Users/eduardoolmos/opt/anaconda3/lib/python3.8/site-packages/sklearn/svm/_base.py:985: ConvergenceWarning: Liblinear failed to converge, increase the number of iterations.\n",
      "  warnings.warn(\"Liblinear failed to converge, increase \"\n",
      "/Users/eduardoolmos/opt/anaconda3/lib/python3.8/site-packages/sklearn/svm/_base.py:985: ConvergenceWarning: Liblinear failed to converge, increase the number of iterations.\n",
      "  warnings.warn(\"Liblinear failed to converge, increase \"\n",
      "/Users/eduardoolmos/opt/anaconda3/lib/python3.8/site-packages/sklearn/svm/_base.py:985: ConvergenceWarning: Liblinear failed to converge, increase the number of iterations.\n",
      "  warnings.warn(\"Liblinear failed to converge, increase \"\n",
      "/Users/eduardoolmos/opt/anaconda3/lib/python3.8/site-packages/sklearn/svm/_base.py:985: ConvergenceWarning: Liblinear failed to converge, increase the number of iterations.\n",
      "  warnings.warn(\"Liblinear failed to converge, increase \"\n",
      "/Users/eduardoolmos/opt/anaconda3/lib/python3.8/site-packages/sklearn/svm/_base.py:985: ConvergenceWarning: Liblinear failed to converge, increase the number of iterations.\n",
      "  warnings.warn(\"Liblinear failed to converge, increase \"\n",
      "/Users/eduardoolmos/opt/anaconda3/lib/python3.8/site-packages/sklearn/svm/_base.py:985: ConvergenceWarning: Liblinear failed to converge, increase the number of iterations.\n",
      "  warnings.warn(\"Liblinear failed to converge, increase \"\n",
      "/Users/eduardoolmos/opt/anaconda3/lib/python3.8/site-packages/sklearn/svm/_base.py:985: ConvergenceWarning: Liblinear failed to converge, increase the number of iterations.\n",
      "  warnings.warn(\"Liblinear failed to converge, increase \"\n",
      "/Users/eduardoolmos/opt/anaconda3/lib/python3.8/site-packages/sklearn/svm/_base.py:985: ConvergenceWarning: Liblinear failed to converge, increase the number of iterations.\n",
      "  warnings.warn(\"Liblinear failed to converge, increase \"\n",
      "/Users/eduardoolmos/opt/anaconda3/lib/python3.8/site-packages/sklearn/svm/_base.py:985: ConvergenceWarning: Liblinear failed to converge, increase the number of iterations.\n",
      "  warnings.warn(\"Liblinear failed to converge, increase \"\n",
      "/Users/eduardoolmos/opt/anaconda3/lib/python3.8/site-packages/sklearn/svm/_base.py:985: ConvergenceWarning: Liblinear failed to converge, increase the number of iterations.\n",
      "  warnings.warn(\"Liblinear failed to converge, increase \"\n",
      "/Users/eduardoolmos/opt/anaconda3/lib/python3.8/site-packages/sklearn/svm/_base.py:985: ConvergenceWarning: Liblinear failed to converge, increase the number of iterations.\n",
      "  warnings.warn(\"Liblinear failed to converge, increase \"\n",
      "/Users/eduardoolmos/opt/anaconda3/lib/python3.8/site-packages/sklearn/svm/_base.py:985: ConvergenceWarning: Liblinear failed to converge, increase the number of iterations.\n",
      "  warnings.warn(\"Liblinear failed to converge, increase \"\n",
      "/Users/eduardoolmos/opt/anaconda3/lib/python3.8/site-packages/sklearn/svm/_base.py:985: ConvergenceWarning: Liblinear failed to converge, increase the number of iterations.\n",
      "  warnings.warn(\"Liblinear failed to converge, increase \"\n",
      "/Users/eduardoolmos/opt/anaconda3/lib/python3.8/site-packages/sklearn/svm/_base.py:985: ConvergenceWarning: Liblinear failed to converge, increase the number of iterations.\n",
      "  warnings.warn(\"Liblinear failed to converge, increase \"\n",
      "/Users/eduardoolmos/opt/anaconda3/lib/python3.8/site-packages/sklearn/svm/_base.py:985: ConvergenceWarning: Liblinear failed to converge, increase the number of iterations.\n",
      "  warnings.warn(\"Liblinear failed to converge, increase \"\n",
      "/Users/eduardoolmos/opt/anaconda3/lib/python3.8/site-packages/sklearn/svm/_base.py:985: ConvergenceWarning: Liblinear failed to converge, increase the number of iterations.\n",
      "  warnings.warn(\"Liblinear failed to converge, increase \"\n",
      "/Users/eduardoolmos/opt/anaconda3/lib/python3.8/site-packages/sklearn/svm/_base.py:985: ConvergenceWarning: Liblinear failed to converge, increase the number of iterations.\n",
      "  warnings.warn(\"Liblinear failed to converge, increase \"\n",
      "/Users/eduardoolmos/opt/anaconda3/lib/python3.8/site-packages/sklearn/svm/_base.py:985: ConvergenceWarning: Liblinear failed to converge, increase the number of iterations.\n",
      "  warnings.warn(\"Liblinear failed to converge, increase \"\n",
      "/Users/eduardoolmos/opt/anaconda3/lib/python3.8/site-packages/sklearn/svm/_base.py:985: ConvergenceWarning: Liblinear failed to converge, increase the number of iterations.\n",
      "  warnings.warn(\"Liblinear failed to converge, increase \"\n",
      "/Users/eduardoolmos/opt/anaconda3/lib/python3.8/site-packages/sklearn/svm/_base.py:985: ConvergenceWarning: Liblinear failed to converge, increase the number of iterations.\n",
      "  warnings.warn(\"Liblinear failed to converge, increase \"\n",
      "/Users/eduardoolmos/opt/anaconda3/lib/python3.8/site-packages/sklearn/svm/_base.py:985: ConvergenceWarning: Liblinear failed to converge, increase the number of iterations.\n",
      "  warnings.warn(\"Liblinear failed to converge, increase \"\n",
      "/Users/eduardoolmos/opt/anaconda3/lib/python3.8/site-packages/sklearn/svm/_base.py:985: ConvergenceWarning: Liblinear failed to converge, increase the number of iterations.\n",
      "  warnings.warn(\"Liblinear failed to converge, increase \"\n"
     ]
    },
    {
     "name": "stderr",
     "output_type": "stream",
     "text": [
      "/Users/eduardoolmos/opt/anaconda3/lib/python3.8/site-packages/sklearn/svm/_base.py:985: ConvergenceWarning: Liblinear failed to converge, increase the number of iterations.\n",
      "  warnings.warn(\"Liblinear failed to converge, increase \"\n",
      "/Users/eduardoolmos/opt/anaconda3/lib/python3.8/site-packages/sklearn/svm/_base.py:985: ConvergenceWarning: Liblinear failed to converge, increase the number of iterations.\n",
      "  warnings.warn(\"Liblinear failed to converge, increase \"\n",
      "/Users/eduardoolmos/opt/anaconda3/lib/python3.8/site-packages/sklearn/svm/_base.py:985: ConvergenceWarning: Liblinear failed to converge, increase the number of iterations.\n",
      "  warnings.warn(\"Liblinear failed to converge, increase \"\n",
      "/Users/eduardoolmos/opt/anaconda3/lib/python3.8/site-packages/sklearn/svm/_base.py:985: ConvergenceWarning: Liblinear failed to converge, increase the number of iterations.\n",
      "  warnings.warn(\"Liblinear failed to converge, increase \"\n",
      "/Users/eduardoolmos/opt/anaconda3/lib/python3.8/site-packages/sklearn/svm/_base.py:985: ConvergenceWarning: Liblinear failed to converge, increase the number of iterations.\n",
      "  warnings.warn(\"Liblinear failed to converge, increase \"\n",
      "/Users/eduardoolmos/opt/anaconda3/lib/python3.8/site-packages/sklearn/svm/_base.py:985: ConvergenceWarning: Liblinear failed to converge, increase the number of iterations.\n",
      "  warnings.warn(\"Liblinear failed to converge, increase \"\n",
      "/Users/eduardoolmos/opt/anaconda3/lib/python3.8/site-packages/sklearn/svm/_base.py:985: ConvergenceWarning: Liblinear failed to converge, increase the number of iterations.\n",
      "  warnings.warn(\"Liblinear failed to converge, increase \"\n",
      "/Users/eduardoolmos/opt/anaconda3/lib/python3.8/site-packages/sklearn/svm/_base.py:985: ConvergenceWarning: Liblinear failed to converge, increase the number of iterations.\n",
      "  warnings.warn(\"Liblinear failed to converge, increase \"\n",
      "/Users/eduardoolmos/opt/anaconda3/lib/python3.8/site-packages/sklearn/svm/_base.py:985: ConvergenceWarning: Liblinear failed to converge, increase the number of iterations.\n",
      "  warnings.warn(\"Liblinear failed to converge, increase \"\n",
      "/Users/eduardoolmos/opt/anaconda3/lib/python3.8/site-packages/sklearn/svm/_base.py:985: ConvergenceWarning: Liblinear failed to converge, increase the number of iterations.\n",
      "  warnings.warn(\"Liblinear failed to converge, increase \"\n",
      "/Users/eduardoolmos/opt/anaconda3/lib/python3.8/site-packages/sklearn/svm/_base.py:985: ConvergenceWarning: Liblinear failed to converge, increase the number of iterations.\n",
      "  warnings.warn(\"Liblinear failed to converge, increase \"\n",
      "/Users/eduardoolmos/opt/anaconda3/lib/python3.8/site-packages/sklearn/svm/_base.py:985: ConvergenceWarning: Liblinear failed to converge, increase the number of iterations.\n",
      "  warnings.warn(\"Liblinear failed to converge, increase \"\n",
      "/Users/eduardoolmos/opt/anaconda3/lib/python3.8/site-packages/sklearn/svm/_base.py:985: ConvergenceWarning: Liblinear failed to converge, increase the number of iterations.\n",
      "  warnings.warn(\"Liblinear failed to converge, increase \"\n",
      "/Users/eduardoolmos/opt/anaconda3/lib/python3.8/site-packages/sklearn/svm/_base.py:985: ConvergenceWarning: Liblinear failed to converge, increase the number of iterations.\n",
      "  warnings.warn(\"Liblinear failed to converge, increase \"\n",
      "/Users/eduardoolmos/opt/anaconda3/lib/python3.8/site-packages/sklearn/svm/_base.py:985: ConvergenceWarning: Liblinear failed to converge, increase the number of iterations.\n",
      "  warnings.warn(\"Liblinear failed to converge, increase \"\n",
      "/Users/eduardoolmos/opt/anaconda3/lib/python3.8/site-packages/sklearn/svm/_base.py:985: ConvergenceWarning: Liblinear failed to converge, increase the number of iterations.\n",
      "  warnings.warn(\"Liblinear failed to converge, increase \"\n"
     ]
    },
    {
     "data": {
      "text/plain": [
       "GridSearchCV(estimator=LinearSVR(max_iter=5000),\n",
       "             param_grid={'C': array([1.00000000e-05, 2.63167368e-01, 5.26324737e-01, 7.89482105e-01,\n",
       "       1.05263947e+00, 1.31579684e+00, 1.57895421e+00, 1.84211158e+00,\n",
       "       2.10526895e+00, 2.36842632e+00, 2.63158368e+00, 2.89474105e+00,\n",
       "       3.15789842e+00, 3.42105579e+00, 3.68421316e+00, 3.94737053e+00,\n",
       "       4.21052789e+00, 4.47368526e+00, 4.73684263e+00, 5.00000000e+00]),\n",
       "                         'loss': ['epsilon_insensitive',\n",
       "                                  'squared_epsilon_insensitive']})"
      ]
     },
     "execution_count": 63,
     "metadata": {},
     "output_type": "execute_result"
    }
   ],
   "source": [
    "svc = LinearSVR(max_iter = 5000)\n",
    "gs = GridSearchCV(svc, pgrid)\n",
    "gs.fit(Z_train, y_train)"
   ]
  },
  {
   "cell_type": "code",
   "execution_count": 64,
   "id": "2c6b8723",
   "metadata": {},
   "outputs": [
    {
     "data": {
      "text/plain": [
       "-33.908983746723464"
      ]
     },
     "execution_count": 64,
     "metadata": {},
     "output_type": "execute_result"
    }
   ],
   "source": [
    "gs.best_score_"
   ]
  },
  {
   "cell_type": "code",
   "execution_count": 65,
   "id": "c16f6af1",
   "metadata": {},
   "outputs": [
    {
     "data": {
      "text/plain": [
       "{'C': 4.473685263157894, 'loss': 'epsilon_insensitive'}"
      ]
     },
     "execution_count": 65,
     "metadata": {},
     "output_type": "execute_result"
    }
   ],
   "source": [
    "gs.best_params_"
   ]
  },
  {
   "cell_type": "code",
   "execution_count": 66,
   "id": "e81ad95d",
   "metadata": {},
   "outputs": [
    {
     "data": {
      "text/plain": [
       "0.9872121022131103"
      ]
     },
     "execution_count": 66,
     "metadata": {},
     "output_type": "execute_result"
    }
   ],
   "source": [
    "gs.score(Z_test, y_test)"
   ]
  },
  {
   "cell_type": "code",
   "execution_count": 67,
   "id": "66b46cd9",
   "metadata": {},
   "outputs": [],
   "source": [
    "#Cross Val score is also off, \n",
    "#cross_val_score(gs, X_test, y_test)"
   ]
  },
  {
   "cell_type": "code",
   "execution_count": 68,
   "id": "11eef5a0",
   "metadata": {},
   "outputs": [
    {
     "data": {
      "text/plain": [
       "103.3047266346868"
      ]
     },
     "execution_count": 68,
     "metadata": {},
     "output_type": "execute_result"
    }
   ],
   "source": [
    "mean_squared_error(np.exp(y_test), np.exp(gs.predict(Z_test)), squared= False)"
   ]
  },
  {
   "cell_type": "code",
   "execution_count": 69,
   "id": "e81f65bc",
   "metadata": {},
   "outputs": [
    {
     "data": {
      "text/plain": [
       "GridSearchCV(cv=3,\n",
       "             estimator=VotingRegressor(estimators=[('lr', LinearRegression()),\n",
       "                                                   ('dt',\n",
       "                                                    DecisionTreeRegressor()),\n",
       "                                                   ('rf',\n",
       "                                                    RandomForestRegressor())]),\n",
       "             n_jobs=4,\n",
       "             param_grid={'dt__ccp_alpha': [0.001], 'dt__max_depth': [9],\n",
       "                         'dt__min_samples_leaf': [4],\n",
       "                         'dt__min_samples_split': [4], 'rf__ccp_alpha': [0],\n",
       "                         'rf__max_depth': [11], 'rf__min_samples_leaf': [4],\n",
       "                         'rf__min_samples_split': [7],\n",
       "                         'rf__n_estimators': [80]})"
      ]
     },
     "execution_count": 69,
     "metadata": {},
     "output_type": "execute_result"
    }
   ],
   "source": [
    "vote = VotingRegressor([\n",
    "    ('lr', LinearRegression()),\n",
    "    ('dt', DecisionTreeRegressor()),\n",
    "    ('rf', RandomForestRegressor())\n",
    "])\n",
    "\n",
    "params = {\n",
    "    \"dt__ccp_alpha\": [.001],\n",
    "    \"dt__max_depth\": [9],\n",
    "    \"dt__min_samples_leaf\": [4],\n",
    "    \"dt__min_samples_split\": [4],\n",
    "    \"rf__ccp_alpha\" : [0],\n",
    "    \"rf__max_depth\" : [11],\n",
    "    \"rf__min_samples_leaf\" : [4],\n",
    "    \"rf__min_samples_split\" : [7],\n",
    "    \"rf__n_estimators\" :[80] \n",
    "}\n",
    "\n",
    "gs_vote = GridSearchCV(vote, param_grid=params, cv = 3, n_jobs = 4)\n",
    "gs_vote.fit(X_train, y_train)"
   ]
  },
  {
   "cell_type": "code",
   "execution_count": 70,
   "id": "792aed53",
   "metadata": {},
   "outputs": [
    {
     "data": {
      "text/plain": [
       "0.9943831020324573"
      ]
     },
     "execution_count": 70,
     "metadata": {},
     "output_type": "execute_result"
    }
   ],
   "source": [
    "gs_vote.score(X_train, y_train)"
   ]
  },
  {
   "cell_type": "code",
   "execution_count": 71,
   "id": "b8f7ec8b",
   "metadata": {},
   "outputs": [
    {
     "data": {
      "text/plain": [
       "0.9852093439944183"
      ]
     },
     "execution_count": 71,
     "metadata": {},
     "output_type": "execute_result"
    }
   ],
   "source": [
    "gs_vote.score(X_test, y_test)"
   ]
  },
  {
   "cell_type": "code",
   "execution_count": 72,
   "id": "96ce1111",
   "metadata": {},
   "outputs": [
    {
     "name": "stdout",
     "output_type": "stream",
     "text": [
      "[0.88916685 0.82423172 0.7512277  0.82718757 0.54619128]\n",
      "0.7336303950399451\n"
     ]
    },
    {
     "data": {
      "text/plain": [
       "94.21516895288323"
      ]
     },
     "execution_count": 72,
     "metadata": {},
     "output_type": "execute_result"
    }
   ],
   "source": [
    "print(cross_val_score(gs_vote, X_test, y_test))\n",
    "print(gs_vote.best_score_)\n",
    "#mean_squared_error(np.exp(y_train), np.exp(dt.predict(X_train)), squared= False)\n",
    "\n",
    "#mean_squared_error(np.exp(y_train), np.exp(train_baseline), squared= False)\n",
    "\n",
    "mean_squared_error(np.exp(y_test), np.exp(gs_vote.predict(X_test)), squared= False)\n",
    "\n",
    "#mean_squared_error(np.exp(y_test), np.exp(test_baseline), squared= False)"
   ]
  },
  {
   "cell_type": "code",
   "execution_count": 73,
   "id": "3bdea8cc",
   "metadata": {},
   "outputs": [
    {
     "data": {
      "text/plain": [
       "array([ 178.11589367, 1057.78335115,  753.59720833, 1081.41982794,\n",
       "       3218.91615477,  917.85521319,  223.23566865,  113.58500449,\n",
       "       2971.43490169, 1594.64285198,   50.84315126,  343.121781  ,\n",
       "        283.75980651, 1453.63591303, 1033.00535822,  476.17527956,\n",
       "        779.92316475, 1022.80904382,  242.87858558,  900.71788909,\n",
       "        151.26679751, 1205.97986354,  515.18994217, 1199.39745054,\n",
       "        653.01503578,  194.88159126, 1488.12947279,  105.01753009,\n",
       "        187.21267396,  147.68254641,  526.05186185,  613.41626722,\n",
       "        650.67752558,  882.67095907, 1542.86013261,  754.46663656,\n",
       "        570.05404075, 1602.9573993 ,   47.13461385,  847.01353486,\n",
       "        110.62880794, 1129.71419363, 3365.4541529 ,  427.95314488,\n",
       "       1063.5387303 ,   85.66733629,  908.36923815,  623.23580435,\n",
       "        313.11500427,  148.73597395])"
      ]
     },
     "execution_count": 73,
     "metadata": {},
     "output_type": "execute_result"
    }
   ],
   "source": [
    "np.exp(gs_vote.predict(X_test))"
   ]
  },
  {
   "cell_type": "code",
   "execution_count": 74,
   "id": "0c13caa4",
   "metadata": {},
   "outputs": [
    {
     "data": {
      "text/plain": [
       "0       179.0\n",
       "6      1076.0\n",
       "12      580.0\n",
       "18     1136.0\n",
       "24     2945.0\n",
       "30      846.0\n",
       "36      190.0\n",
       "42       93.0\n",
       "48     2872.0\n",
       "54     1695.0\n",
       "60       62.0\n",
       "66      294.0\n",
       "72      255.0\n",
       "78     1367.0\n",
       "84      958.0\n",
       "90      403.0\n",
       "96      682.0\n",
       "102    1013.0\n",
       "108     247.0\n",
       "114     757.0\n",
       "120     163.0\n",
       "126    1220.0\n",
       "132     465.0\n",
       "138    1252.0\n",
       "144     710.0\n",
       "150     209.0\n",
       "156    1397.0\n",
       "162      93.0\n",
       "168     205.0\n",
       "174     156.0\n",
       "180     368.0\n",
       "186     471.0\n",
       "192     490.0\n",
       "198     804.0\n",
       "204    1578.0\n",
       "210     737.0\n",
       "216     566.0\n",
       "222    1541.0\n",
       "228      48.0\n",
       "234    1012.0\n",
       "240     113.0\n",
       "246    1270.0\n",
       "252    3683.0\n",
       "258     394.0\n",
       "264    1025.0\n",
       "270      67.0\n",
       "276     842.0\n",
       "282     604.0\n",
       "288     300.0\n",
       "294     133.0\n",
       "Name: log_gun_death, dtype: float64"
      ]
     },
     "execution_count": 74,
     "metadata": {},
     "output_type": "execute_result"
    }
   ],
   "source": [
    "np.exp(y_test)"
   ]
  },
  {
   "cell_type": "code",
   "execution_count": null,
   "id": "125960de",
   "metadata": {},
   "outputs": [],
   "source": []
  }
 ],
 "metadata": {
  "kernelspec": {
   "display_name": "Python 3",
   "language": "python",
   "name": "python3"
  },
  "language_info": {
   "codemirror_mode": {
    "name": "ipython",
    "version": 3
   },
   "file_extension": ".py",
   "mimetype": "text/x-python",
   "name": "python",
   "nbconvert_exporter": "python",
   "pygments_lexer": "ipython3",
   "version": "3.8.8"
  }
 },
 "nbformat": 4,
 "nbformat_minor": 5
}
